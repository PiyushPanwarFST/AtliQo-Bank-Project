{
 "cells": [
  {
   "cell_type": "markdown",
   "id": "4b6c0c1e-c963-4f34-a538-8d1cc994ae59",
   "metadata": {},
   "source": [
    "<h1 align = \"center\" style = \"color:red\"> Phase 2: AtliQ0 Bank Credit Card Project</h1>"
   ]
  },
  {
   "cell_type": "markdown",
   "id": "c2619366-13f9-4927-87b8-49c493ab2061",
   "metadata": {},
   "source": [
    "### Business Analysis and launch of AB testing: Targeting Untapped Market\n",
    "\n",
    "### Insights specific to customers with age group of 18 - 25\n",
    "1. People with age group of 18 -25 accounts to ~25% of customer base in the data\n",
    "2. Avg annual income of this age group is less than 50k\n",
    "3. They don't have much credit history which is getting reflected in their credit score and max credit limit \n",
    "4. Usage of credit cards as payment type is relatively low compared to other groups\n",
    "5. Avg transaction amount made with credit cards is also low compared to other groups\n",
    "5. Top 3 most used shopping products categories  : Electronics, Fashion & Apparel, Beauty & Personal care"
   ]
  },
  {
   "cell_type": "markdown",
   "id": "20c18a54-4a17-49d6-a6f4-e3ad9428ff0f",
   "metadata": {},
   "source": [
    "![Analysis Image](analysis.png)"
   ]
  },
  {
   "cell_type": "markdown",
   "id": "a974657b-7d3a-4ccc-ad71-5dee9e41d67a",
   "metadata": {},
   "source": [
    "## (1) Pre-Campaign:\n",
    "We want to perform A/B testing (Hypothesis) so we made two groups: (1)Control Group (2)Target Group so we need some people(customers) based on 1:Statistical power, 2:Effect_size and 3:alpha.\n",
    "\n",
    "So, that we get an idea that which credit card is performing well."
   ]
  },
  {
   "cell_type": "code",
   "execution_count": 2,
   "id": "cf8459ca-278f-4dcb-a1b6-2fb1f16cd8cc",
   "metadata": {},
   "outputs": [],
   "source": [
    "import pandas as pd\n",
    "import numpy as np\n",
    "from matplotlib import pyplot as plt\n",
    "from scipy import stats as st\n",
    "import seaborn as sns\n",
    "import statsmodels.stats.api as sms\n",
    "import statsmodels.api as sm"
   ]
  },
  {
   "cell_type": "code",
   "execution_count": 3,
   "id": "7ae8425e-9bd2-4c33-83e3-93e6ea394c55",
   "metadata": {},
   "outputs": [
    {
     "data": {
      "text/plain": [
       "393.4056989990348"
      ]
     },
     "execution_count": 3,
     "metadata": {},
     "output_type": "execute_result"
    }
   ],
   "source": [
    "alpha = 0.05\n",
    "power = 0.8  # statistical power represent that how hard & tough our test so we can accuratly identify the false null hypothsis.\n",
    "effect_size = 0.2 # effect size [difference bw the mean of target & control group]\n",
    "\n",
    "# from this function we will get to know on how many people to should conduct the hypothesis\n",
    "\n",
    "sms.tt_ind_solve_power(\n",
    "    effect_size = 0.2,\n",
    "    alpha = alpha,\n",
    "    power = power,\n",
    "    ratio = 1,\n",
    "    alternative = \"two-sided\"\n",
    ")"
   ]
  },
  {
   "cell_type": "code",
   "execution_count": null,
   "id": "27c0de06-aa64-4894-9e57-09a09b4f17a4",
   "metadata": {},
   "outputs": [],
   "source": [
    "# we have to give some incentives to the customers who are part of the campign so after discussion with the business manager we decided that \n",
    "# we will reduce the sample size of the customers.   "
   ]
  },
  {
   "cell_type": "code",
   "execution_count": 10,
   "id": "a9bee7c7-c88e-4182-b75b-fb4d59bf7ee4",
   "metadata": {},
   "outputs": [
    {
     "name": "stdout",
     "output_type": "stream",
     "text": [
      "Effect Size: 0.1, Required Sample Size: 1570 customers\n",
      "Effect Size: 0.2, Required Sample Size: 393 customers\n",
      "Effect Size: 0.3, Required Sample Size: 175 customers\n",
      "Effect Size: 0.4, Required Sample Size: 99 customers\n",
      "Effect Size: 0.5, Required Sample Size: 63 customers\n",
      "Effect Size: 1, Required Sample Size: 16 customers\n"
     ]
    }
   ],
   "source": [
    "# finding the possible sample sizes at different-different effect_size\n",
    "\n",
    "effect_sizes = [0.1, 0.2, 0.3, 0.4, 0.5, 1] #  standard deviations greater than control group \n",
    "\n",
    "for x in effect_sizes:\n",
    "    sample_size = sms.tt_ind_solve_power(effect_size=x, alpha=alpha, power=power, ratio=1, alternative='two-sided')\n",
    "    print(f\"Effect Size: {x}, Required Sample Size: {int(sample_size)} customers\")"
   ]
  },
  {
   "cell_type": "markdown",
   "id": "71ec406a-af4e-4d43-aea3-7a05f2800ea2",
   "metadata": {},
   "source": [
    "## (2) Post-Campaign"
   ]
  },
  {
   "cell_type": "code",
   "execution_count": 2,
   "id": "d47e38da-0024-4f29-bc3c-9d32ca106003",
   "metadata": {},
   "outputs": [
    {
     "data": {
      "text/html": [
       "<div>\n",
       "<style scoped>\n",
       "    .dataframe tbody tr th:only-of-type {\n",
       "        vertical-align: middle;\n",
       "    }\n",
       "\n",
       "    .dataframe tbody tr th {\n",
       "        vertical-align: top;\n",
       "    }\n",
       "\n",
       "    .dataframe thead th {\n",
       "        text-align: right;\n",
       "    }\n",
       "</style>\n",
       "<table border=\"1\" class=\"dataframe\">\n",
       "  <thead>\n",
       "    <tr style=\"text-align: right;\">\n",
       "      <th></th>\n",
       "      <th>campaign_date</th>\n",
       "      <th>control_group_avg_tran</th>\n",
       "      <th>test_group_avg_tran</th>\n",
       "    </tr>\n",
       "  </thead>\n",
       "  <tbody>\n",
       "    <tr>\n",
       "      <th>0</th>\n",
       "      <td>2023-09-10</td>\n",
       "      <td>259.83</td>\n",
       "      <td>277.32</td>\n",
       "    </tr>\n",
       "    <tr>\n",
       "      <th>1</th>\n",
       "      <td>2023-09-11</td>\n",
       "      <td>191.27</td>\n",
       "      <td>248.68</td>\n",
       "    </tr>\n",
       "    <tr>\n",
       "      <th>2</th>\n",
       "      <td>2023-09-12</td>\n",
       "      <td>212.41</td>\n",
       "      <td>286.61</td>\n",
       "    </tr>\n",
       "    <tr>\n",
       "      <th>3</th>\n",
       "      <td>2023-09-13</td>\n",
       "      <td>214.92</td>\n",
       "      <td>214.85</td>\n",
       "    </tr>\n",
       "    <tr>\n",
       "      <th>4</th>\n",
       "      <td>2023-09-14</td>\n",
       "      <td>158.55</td>\n",
       "      <td>344.08</td>\n",
       "    </tr>\n",
       "  </tbody>\n",
       "</table>\n",
       "</div>"
      ],
      "text/plain": [
       "  campaign_date  control_group_avg_tran  test_group_avg_tran\n",
       "0    2023-09-10                  259.83               277.32\n",
       "1    2023-09-11                  191.27               248.68\n",
       "2    2023-09-12                  212.41               286.61\n",
       "3    2023-09-13                  214.92               214.85\n",
       "4    2023-09-14                  158.55               344.08"
      ]
     },
     "execution_count": 2,
     "metadata": {},
     "output_type": "execute_result"
    }
   ],
   "source": [
    "import pandas as pd\n",
    "\n",
    "df = pd.read_csv(\"data/avg_transactions_after_campaign.csv\")\n",
    "df.head()"
   ]
  },
  {
   "cell_type": "code",
   "execution_count": 3,
   "id": "cbb77c98-e80f-4b2a-8567-25504283b5a7",
   "metadata": {},
   "outputs": [
    {
     "data": {
      "text/plain": [
       "(62, 3)"
      ]
     },
     "execution_count": 3,
     "metadata": {},
     "output_type": "execute_result"
    }
   ],
   "source": [
    "df.shape"
   ]
  },
  {
   "cell_type": "code",
   "execution_count": 8,
   "id": "335ed460-f607-4a08-8111-6b9712f23604",
   "metadata": {},
   "outputs": [
    {
     "data": {
      "image/png": "[encoded data removed]",
      "text/plain": [
       "<Figure size 1200x600 with 2 Axes>"
      ]
     },
     "metadata": {},
     "output_type": "display_data"
    }
   ],
   "source": [
    "import matplotlib.pyplot as plt\n",
    "import seaborn as sns\n",
    "import pandas as pd\n",
    "\n",
    "# Sample data for demonstration (replace these with your actual DataFrame columns)\n",
    "# Assuming you have a DataFrame `df` containing both control and test group data\n",
    "control_group_avg_tran = df['control_group_avg_tran']\n",
    "test_group_avg_tran = df['test_group_avg_tran']\n",
    "\n",
    "# Create subplots with 1 row and 2 columns\n",
    "fig, axes = plt.subplots(nrows=1, ncols=2, figsize=(12, 6))\n",
    "\n",
    "# Plot histogram with KDE for control group\n",
    "sns.histplot(control_group_avg_tran, kde=True, bins=20, color='lightblue', ax=axes[0])\n",
    "axes[0].set_title('Control Group Avg Tran')\n",
    "axes[0].set_xlabel('Transaction Amount')\n",
    "axes[0].set_ylabel('Frequency')\n",
    "\n",
    "# Plot histogram with KDE for test group\n",
    "sns.histplot(test_group_avg_tran, kde=True, bins=20, color='lightgreen', ax=axes[1])\n",
    "axes[1].set_title('Test Group Avg Tran')\n",
    "axes[1].set_xlabel('Transaction Amount')\n",
    "axes[1].set_ylabel('Frequency')\n",
    "\n",
    "# Display the histograms\n",
    "plt.tight_layout()\n",
    "plt.show()"
   ]
  },
  {
   "cell_type": "code",
   "execution_count": null,
   "id": "84bdff12-6927-4234-98a0-b9bb64b765fc",
   "metadata": {},
   "outputs": [],
   "source": [
    "# Now we are finding out how many times the [control_Group > test_Group]"
   ]
  },
  {
   "cell_type": "code",
   "execution_count": 9,
   "id": "375743b3-c2d0-494d-a6ba-a61ad9fe2dba",
   "metadata": {},
   "outputs": [
    {
     "data": {
      "text/html": [
       "<div>\n",
       "<style scoped>\n",
       "    .dataframe tbody tr th:only-of-type {\n",
       "        vertical-align: middle;\n",
       "    }\n",
       "\n",
       "    .dataframe tbody tr th {\n",
       "        vertical-align: top;\n",
       "    }\n",
       "\n",
       "    .dataframe thead th {\n",
       "        text-align: right;\n",
       "    }\n",
       "</style>\n",
       "<table border=\"1\" class=\"dataframe\">\n",
       "  <thead>\n",
       "    <tr style=\"text-align: right;\">\n",
       "      <th></th>\n",
       "      <th>campaign_date</th>\n",
       "      <th>control_group_avg_tran</th>\n",
       "      <th>test_group_avg_tran</th>\n",
       "    </tr>\n",
       "  </thead>\n",
       "  <tbody>\n",
       "    <tr>\n",
       "      <th>3</th>\n",
       "      <td>2023-09-13</td>\n",
       "      <td>214.92</td>\n",
       "      <td>214.85</td>\n",
       "    </tr>\n",
       "    <tr>\n",
       "      <th>8</th>\n",
       "      <td>2023-09-18</td>\n",
       "      <td>265.13</td>\n",
       "      <td>212.60</td>\n",
       "    </tr>\n",
       "    <tr>\n",
       "      <th>9</th>\n",
       "      <td>2023-09-19</td>\n",
       "      <td>232.88</td>\n",
       "      <td>207.63</td>\n",
       "    </tr>\n",
       "    <tr>\n",
       "      <th>16</th>\n",
       "      <td>2023-09-26</td>\n",
       "      <td>222.95</td>\n",
       "      <td>213.30</td>\n",
       "    </tr>\n",
       "    <tr>\n",
       "      <th>22</th>\n",
       "      <td>2023-10-02</td>\n",
       "      <td>238.39</td>\n",
       "      <td>203.10</td>\n",
       "    </tr>\n",
       "    <tr>\n",
       "      <th>23</th>\n",
       "      <td>2023-10-03</td>\n",
       "      <td>253.95</td>\n",
       "      <td>234.26</td>\n",
       "    </tr>\n",
       "    <tr>\n",
       "      <th>25</th>\n",
       "      <td>2023-10-05</td>\n",
       "      <td>239.47</td>\n",
       "      <td>216.37</td>\n",
       "    </tr>\n",
       "    <tr>\n",
       "      <th>26</th>\n",
       "      <td>2023-10-06</td>\n",
       "      <td>200.70</td>\n",
       "      <td>166.70</td>\n",
       "    </tr>\n",
       "    <tr>\n",
       "      <th>27</th>\n",
       "      <td>2023-10-07</td>\n",
       "      <td>200.91</td>\n",
       "      <td>170.01</td>\n",
       "    </tr>\n",
       "    <tr>\n",
       "      <th>28</th>\n",
       "      <td>2023-10-08</td>\n",
       "      <td>188.30</td>\n",
       "      <td>150.27</td>\n",
       "    </tr>\n",
       "    <tr>\n",
       "      <th>29</th>\n",
       "      <td>2023-10-09</td>\n",
       "      <td>247.11</td>\n",
       "      <td>164.00</td>\n",
       "    </tr>\n",
       "    <tr>\n",
       "      <th>35</th>\n",
       "      <td>2023-10-15</td>\n",
       "      <td>240.27</td>\n",
       "      <td>238.30</td>\n",
       "    </tr>\n",
       "    <tr>\n",
       "      <th>39</th>\n",
       "      <td>2023-10-19</td>\n",
       "      <td>223.90</td>\n",
       "      <td>196.84</td>\n",
       "    </tr>\n",
       "    <tr>\n",
       "      <th>44</th>\n",
       "      <td>2023-10-24</td>\n",
       "      <td>230.83</td>\n",
       "      <td>213.45</td>\n",
       "    </tr>\n",
       "    <tr>\n",
       "      <th>48</th>\n",
       "      <td>2023-10-28</td>\n",
       "      <td>229.18</td>\n",
       "      <td>222.29</td>\n",
       "    </tr>\n",
       "    <tr>\n",
       "      <th>49</th>\n",
       "      <td>2023-10-29</td>\n",
       "      <td>237.26</td>\n",
       "      <td>214.46</td>\n",
       "    </tr>\n",
       "    <tr>\n",
       "      <th>52</th>\n",
       "      <td>2023-11-01</td>\n",
       "      <td>265.45</td>\n",
       "      <td>169.98</td>\n",
       "    </tr>\n",
       "    <tr>\n",
       "      <th>57</th>\n",
       "      <td>2023-11-06</td>\n",
       "      <td>255.70</td>\n",
       "      <td>140.61</td>\n",
       "    </tr>\n",
       "  </tbody>\n",
       "</table>\n",
       "</div>"
      ],
      "text/plain": [
       "   campaign_date  control_group_avg_tran  test_group_avg_tran\n",
       "3     2023-09-13                  214.92               214.85\n",
       "8     2023-09-18                  265.13               212.60\n",
       "9     2023-09-19                  232.88               207.63\n",
       "16    2023-09-26                  222.95               213.30\n",
       "22    2023-10-02                  238.39               203.10\n",
       "23    2023-10-03                  253.95               234.26\n",
       "25    2023-10-05                  239.47               216.37\n",
       "26    2023-10-06                  200.70               166.70\n",
       "27    2023-10-07                  200.91               170.01\n",
       "28    2023-10-08                  188.30               150.27\n",
       "29    2023-10-09                  247.11               164.00\n",
       "35    2023-10-15                  240.27               238.30\n",
       "39    2023-10-19                  223.90               196.84\n",
       "44    2023-10-24                  230.83               213.45\n",
       "48    2023-10-28                  229.18               222.29\n",
       "49    2023-10-29                  237.26               214.46\n",
       "52    2023-11-01                  265.45               169.98\n",
       "57    2023-11-06                  255.70               140.61"
      ]
     },
     "execution_count": 9,
     "metadata": {},
     "output_type": "execute_result"
    }
   ],
   "source": [
    "df[df['control_group_avg_tran'] > df['test_group_avg_tran']]"
   ]
  },
  {
   "cell_type": "code",
   "execution_count": 10,
   "id": "8bd9453e-2885-49da-b649-04530ebe8cc1",
   "metadata": {},
   "outputs": [
    {
     "data": {
      "text/plain": [
       "29.03225806451613"
      ]
     },
     "execution_count": 10,
     "metadata": {},
     "output_type": "execute_result"
    }
   ],
   "source": [
    "df[df['control_group_avg_tran'] > df['test_group_avg_tran']].shape[0] / df.shape[0] * 100 "
   ]
  },
  {
   "cell_type": "code",
   "execution_count": 11,
   "id": "b0d32022-4299-4d4e-ac15-4d63b0f1de71",
   "metadata": {},
   "outputs": [],
   "source": [
    "# it shows that 29% the control group transction > test group trnasaction"
   ]
  },
  {
   "cell_type": "markdown",
   "id": "4eb8f778-7558-486b-82bd-ca32b307096d",
   "metadata": {},
   "source": [
    "### Control_group:"
   ]
  },
  {
   "cell_type": "code",
   "execution_count": 39,
   "id": "4d78d92f-fad1-4071-9ff4-1e79be3556c4",
   "metadata": {},
   "outputs": [
    {
     "data": {
      "text/plain": [
       "(221.1751612903226, 21.359192112027014, 62)"
      ]
     },
     "execution_count": 39,
     "metadata": {},
     "output_type": "execute_result"
    }
   ],
   "source": [
    "control_mean = df['control_group_avg_tran'].mean()\n",
    "control_std = df['control_group_avg_tran'].std()\n",
    "control_sample_SIZE =  df['control_group_avg_tran'].shape[0]\n",
    "\n",
    "control_mean, control_std, control_sample_SIZE"
   ]
  },
  {
   "cell_type": "markdown",
   "id": "cb3c80fa-165b-4280-8460-4f6782be1560",
   "metadata": {},
   "source": [
    "## Test_group"
   ]
  },
  {
   "cell_type": "code",
   "execution_count": 40,
   "id": "a5ea78d3-bd21-4581-86f9-d3651aa06942",
   "metadata": {},
   "outputs": [
    {
     "data": {
      "text/plain": [
       "(235.9835483870968, 36.65808210918637, 62)"
      ]
     },
     "execution_count": 40,
     "metadata": {},
     "output_type": "execute_result"
    }
   ],
   "source": [
    "test_mean = df['test_group_avg_tran'].mean()\n",
    "test_std = df['test_group_avg_tran'].std()\n",
    "test_sample_SIZE = df['test_group_avg_tran'].shape[0]\n",
    "\n",
    "test_mean, test_std, test_sample_SIZE"
   ]
  },
  {
   "cell_type": "code",
   "execution_count": 29,
   "id": "3667a11f-f6a4-4d42-a5e7-bb27f62d9214",
   "metadata": {},
   "outputs": [],
   "source": [
    "# Calculating Z-score:"
   ]
  },
  {
   "cell_type": "code",
   "execution_count": 42,
   "id": "0bd79857-094c-4013-8cb2-43e0067a97b2",
   "metadata": {},
   "outputs": [
    {
     "data": {
      "text/plain": [
       "21.67443522457822"
      ]
     },
     "execution_count": 42,
     "metadata": {},
     "output_type": "execute_result"
    }
   ],
   "source": [
    "test_var = test_std**2/test_sample_SIZE\n",
    "test_var"
   ]
  },
  {
   "cell_type": "code",
   "execution_count": 43,
   "id": "869c14a2-cf93-43c9-802e-1873446216a0",
   "metadata": {},
   "outputs": [
    {
     "data": {
      "text/plain": [
       "7.358307865781887"
      ]
     },
     "execution_count": 43,
     "metadata": {},
     "output_type": "execute_result"
    }
   ],
   "source": [
    "control_var = control_std**2/control_sample_SIZE\n",
    "control_var"
   ]
  },
  {
   "cell_type": "code",
   "execution_count": 62,
   "id": "296a04b0-466b-4013-b52e-08f3eab6e772",
   "metadata": {},
   "outputs": [
    {
     "data": {
      "text/plain": [
       "2.7482973745691135"
      ]
     },
     "execution_count": 62,
     "metadata": {},
     "output_type": "execute_result"
    }
   ],
   "source": [
    "import numpy as np\n",
    "\n",
    "z_score = (test_mean - control_mean) / np.sqrt(test_var + control_var)\n",
    "z_score"
   ]
  },
  {
   "cell_type": "code",
   "execution_count": 64,
   "id": "101abe59-d46a-4f5b-a6cd-1111722c63ed",
   "metadata": {},
   "outputs": [
    {
     "data": {
      "text/plain": [
       "1.644853626951472"
      ]
     },
     "execution_count": 64,
     "metadata": {},
     "output_type": "execute_result"
    }
   ],
   "source": [
    "# For a significance level of 5% (0.05) in a right-tailed test, the critical Z-value is approximately 1.645\n",
    "\n",
    "from scipy import stats as st\n",
    "\n",
    "alpha = 0.05\n",
    "\n",
    "z_crit = st.norm.ppf(1 - alpha)\n",
    "z_crit"
   ]
  },
  {
   "cell_type": "code",
   "execution_count": 48,
   "id": "972de12e-8505-434c-9941-25fe96a99bbd",
   "metadata": {},
   "outputs": [
    {
     "data": {
      "text/plain": [
       "True"
      ]
     },
     "execution_count": 48,
     "metadata": {},
     "output_type": "execute_result"
    }
   ],
   "source": [
    "z_score > z_crit"
   ]
  },
  {
   "cell_type": "markdown",
   "id": "cc210f20-c77f-47b2-b5dd-d316e908e082",
   "metadata": {},
   "source": [
    "### Method_2 (p-Value):"
   ]
  },
  {
   "cell_type": "code",
   "execution_count": 61,
   "id": "7a9df743-974c-479f-9ee4-5b9056f48200",
   "metadata": {},
   "outputs": [
    {
     "data": {
      "text/plain": [
       "0.0029952824622024865"
      ]
     },
     "execution_count": 61,
     "metadata": {},
     "output_type": "execute_result"
    }
   ],
   "source": [
    "p_value = 1 - st.norm.cdf(z_score)\n",
    "p_value"
   ]
  },
  {
   "cell_type": "code",
   "execution_count": 66,
   "id": "cb6d5b71-d8b9-4763-bc2a-c7678c2f1aca",
   "metadata": {},
   "outputs": [
    {
     "data": {
      "text/plain": [
       "0.9772498680518208"
      ]
     },
     "execution_count": 66,
     "metadata": {},
     "output_type": "execute_result"
    }
   ],
   "source": [
    "st.norm.cdf(2)"
   ]
  },
  {
   "cell_type": "code",
   "execution_count": 50,
   "id": "b84e65b5-ba65-45ee-b841-78f566bc0446",
   "metadata": {},
   "outputs": [
    {
     "data": {
      "text/plain": [
       "True"
      ]
     },
     "execution_count": 50,
     "metadata": {},
     "output_type": "execute_result"
    }
   ],
   "source": [
    "p_value < alpha"
   ]
  },
  {
   "cell_type": "code",
   "execution_count": 53,
   "id": "cfa9c2df-439e-499d-bc14-e939bd4c441c",
   "metadata": {},
   "outputs": [
    {
     "data": {
      "text/plain": [
       "(2.7482973745691135, 0.002995282462202502)"
      ]
     },
     "execution_count": 53,
     "metadata": {},
     "output_type": "execute_result"
    }
   ],
   "source": [
    "# Performing Z-test with above considerations\n",
    "\n",
    "import statsmodels.stats.api as sms\n",
    "import statsmodels.api as sm\n",
    "\n",
    "z_score, p_value = sm.stats.ztest(df['test_group_avg_tran'],df['control_group_avg_tran'],alternative = 'larger')\n",
    "z_score, p_value"
   ]
  },
  {
   "cell_type": "code",
   "execution_count": null,
   "id": "079a461e-6f79-454b-835c-8edd9b046c5e",
   "metadata": {},
   "outputs": [],
   "source": []
  }
 ],
 "metadata": {
  "kernelspec": {
   "display_name": "Python 3 (ipykernel)",
   "language": "python",
   "name": "python3"
  },
  "language_info": {
   "codemirror_mode": {
    "name": "ipython",
    "version": 3
   },
   "file_extension": ".py",
   "mimetype": "text/x-python",
   "name": "python",
   "nbconvert_exporter": "python",
   "pygments_lexer": "ipython3",
   "version": "3.12.2"
  }
 },
 "nbformat": 4,
 "nbformat_minor": 5
}
