{
 "cells": [
  {
   "cell_type": "code",
   "execution_count": 9,
   "id": "cd9c5736-7095-4c54-9878-e9a55a4f3251",
   "metadata": {},
   "outputs": [
    {
     "data": {
      "text/html": [
       "<div>\n",
       "<style scoped>\n",
       "    .dataframe tbody tr th:only-of-type {\n",
       "        vertical-align: middle;\n",
       "    }\n",
       "\n",
       "    .dataframe tbody tr th {\n",
       "        vertical-align: top;\n",
       "    }\n",
       "\n",
       "    .dataframe thead th {\n",
       "        text-align: right;\n",
       "    }\n",
       "</style>\n",
       "<table border=\"1\" class=\"dataframe\">\n",
       "  <thead>\n",
       "    <tr style=\"text-align: right;\">\n",
       "      <th></th>\n",
       "      <th>tran_id</th>\n",
       "      <th>cust_id</th>\n",
       "      <th>tran_date</th>\n",
       "      <th>tran_amount</th>\n",
       "      <th>platform</th>\n",
       "      <th>product_category</th>\n",
       "      <th>payment_type</th>\n",
       "    </tr>\n",
       "  </thead>\n",
       "  <tbody>\n",
       "    <tr>\n",
       "      <th>0</th>\n",
       "      <td>1</td>\n",
       "      <td>705</td>\n",
       "      <td>2023-01-01</td>\n",
       "      <td>63</td>\n",
       "      <td>Flipkart</td>\n",
       "      <td>Electronics</td>\n",
       "      <td>Phonepe</td>\n",
       "    </tr>\n",
       "    <tr>\n",
       "      <th>1</th>\n",
       "      <td>2</td>\n",
       "      <td>385</td>\n",
       "      <td>2023-01-01</td>\n",
       "      <td>99</td>\n",
       "      <td>Alibaba</td>\n",
       "      <td>Fashion &amp; Apparel</td>\n",
       "      <td>Credit Card</td>\n",
       "    </tr>\n",
       "    <tr>\n",
       "      <th>2</th>\n",
       "      <td>3</td>\n",
       "      <td>924</td>\n",
       "      <td>2023-01-01</td>\n",
       "      <td>471</td>\n",
       "      <td>Shopify</td>\n",
       "      <td>Sports</td>\n",
       "      <td>Phonepe</td>\n",
       "    </tr>\n",
       "    <tr>\n",
       "      <th>3</th>\n",
       "      <td>4</td>\n",
       "      <td>797</td>\n",
       "      <td>2023-01-01</td>\n",
       "      <td>33</td>\n",
       "      <td>Shopify</td>\n",
       "      <td>Fashion &amp; Apparel</td>\n",
       "      <td>Gpay</td>\n",
       "    </tr>\n",
       "    <tr>\n",
       "      <th>4</th>\n",
       "      <td>5</td>\n",
       "      <td>482</td>\n",
       "      <td>2023-01-01</td>\n",
       "      <td>68</td>\n",
       "      <td>Amazon</td>\n",
       "      <td>Fashion &amp; Apparel</td>\n",
       "      <td>Net Banking</td>\n",
       "    </tr>\n",
       "  </tbody>\n",
       "</table>\n",
       "</div>"
      ],
      "text/plain": [
       "   tran_id  cust_id   tran_date  tran_amount  platform   product_category  \\\n",
       "0        1      705  2023-01-01           63  Flipkart        Electronics   \n",
       "1        2      385  2023-01-01           99   Alibaba  Fashion & Apparel   \n",
       "2        3      924  2023-01-01          471   Shopify             Sports   \n",
       "3        4      797  2023-01-01           33   Shopify  Fashion & Apparel   \n",
       "4        5      482  2023-01-01           68    Amazon  Fashion & Apparel   \n",
       "\n",
       "  payment_type  \n",
       "0      Phonepe  \n",
       "1  Credit Card  \n",
       "2      Phonepe  \n",
       "3         Gpay  \n",
       "4  Net Banking  "
      ]
     },
     "execution_count": 9,
     "metadata": {},
     "output_type": "execute_result"
    }
   ],
   "source": [
    "import pandas as pd\n",
    "\n",
    "df_tran = pd.read_csv('datasets/transactions.csv')\n",
    "df_tran.head()"
   ]
  },
  {
   "cell_type": "code",
   "execution_count": 10,
   "id": "ed66f960-e600-4693-b289-a0f4e02d1a82",
   "metadata": {},
   "outputs": [
    {
     "data": {
      "text/plain": [
       "(500000, 7)"
      ]
     },
     "execution_count": 10,
     "metadata": {},
     "output_type": "execute_result"
    }
   ],
   "source": [
    "df_tran.shape"
   ]
  },
  {
   "cell_type": "code",
   "execution_count": 15,
   "id": "a963c777-c1b7-404e-8d2b-b01cbf4f6a5a",
   "metadata": {},
   "outputs": [
    {
     "data": {
      "text/plain": [
       "(4941, 7)"
      ]
     },
     "execution_count": 15,
     "metadata": {},
     "output_type": "execute_result"
    }
   ],
   "source": [
    "df_tran[df_tran.platform.isnull()].shape"
   ]
  },
  {
   "cell_type": "code",
   "execution_count": 47,
   "id": "3e5e6861-e295-49b7-997f-79f06d4bdce1",
   "metadata": {},
   "outputs": [
    {
     "data": {
      "text/plain": [
       "tran_id             0\n",
       "cust_id             0\n",
       "tran_date           0\n",
       "tran_amount         0\n",
       "platform            0\n",
       "product_category    0\n",
       "payment_type        0\n",
       "dtype: int64"
      ]
     },
     "execution_count": 47,
     "metadata": {},
     "output_type": "execute_result"
    }
   ],
   "source": [
    "df_tran.isnull().sum()"
   ]
  },
  {
   "cell_type": "code",
   "execution_count": 21,
   "id": "6acb327c-843c-46b7-93b2-e75030aa3c28",
   "metadata": {},
   "outputs": [
    {
     "data": {
      "text/html": [
       "<div>\n",
       "<style scoped>\n",
       "    .dataframe tbody tr th:only-of-type {\n",
       "        vertical-align: middle;\n",
       "    }\n",
       "\n",
       "    .dataframe tbody tr th {\n",
       "        vertical-align: top;\n",
       "    }\n",
       "\n",
       "    .dataframe thead th {\n",
       "        text-align: right;\n",
       "    }\n",
       "</style>\n",
       "<table border=\"1\" class=\"dataframe\">\n",
       "  <thead>\n",
       "    <tr style=\"text-align: right;\">\n",
       "      <th>product_category</th>\n",
       "      <th>Beauty &amp; Personal Care</th>\n",
       "      <th>Books</th>\n",
       "      <th>Electronics</th>\n",
       "      <th>Fashion &amp; Apparel</th>\n",
       "      <th>Garden &amp; Outdoor</th>\n",
       "      <th>Home Decor</th>\n",
       "      <th>Kitchen Appliances</th>\n",
       "      <th>Sports</th>\n",
       "      <th>Toys &amp; Games</th>\n",
       "    </tr>\n",
       "    <tr>\n",
       "      <th>platform</th>\n",
       "      <th></th>\n",
       "      <th></th>\n",
       "      <th></th>\n",
       "      <th></th>\n",
       "      <th></th>\n",
       "      <th></th>\n",
       "      <th></th>\n",
       "      <th></th>\n",
       "      <th></th>\n",
       "    </tr>\n",
       "  </thead>\n",
       "  <tbody>\n",
       "    <tr>\n",
       "      <th>Alibaba</th>\n",
       "      <td>8475</td>\n",
       "      <td>2041</td>\n",
       "      <td>19207</td>\n",
       "      <td>17173</td>\n",
       "      <td>3511</td>\n",
       "      <td>5796</td>\n",
       "      <td>8603</td>\n",
       "      <td>7346</td>\n",
       "      <td>1432</td>\n",
       "    </tr>\n",
       "    <tr>\n",
       "      <th>Amazon</th>\n",
       "      <td>16581</td>\n",
       "      <td>4054</td>\n",
       "      <td>43486</td>\n",
       "      <td>34752</td>\n",
       "      <td>7012</td>\n",
       "      <td>11092</td>\n",
       "      <td>16749</td>\n",
       "      <td>14761</td>\n",
       "      <td>2956</td>\n",
       "    </tr>\n",
       "    <tr>\n",
       "      <th>Cred</th>\n",
       "      <td>2784</td>\n",
       "      <td>648</td>\n",
       "      <td>6511</td>\n",
       "      <td>5808</td>\n",
       "      <td>1189</td>\n",
       "      <td>1920</td>\n",
       "      <td>2913</td>\n",
       "      <td>2508</td>\n",
       "      <td>460</td>\n",
       "    </tr>\n",
       "    <tr>\n",
       "      <th>Ebay</th>\n",
       "      <td>1152</td>\n",
       "      <td>268</td>\n",
       "      <td>2580</td>\n",
       "      <td>2375</td>\n",
       "      <td>475</td>\n",
       "      <td>751</td>\n",
       "      <td>1150</td>\n",
       "      <td>999</td>\n",
       "      <td>194</td>\n",
       "    </tr>\n",
       "    <tr>\n",
       "      <th>Flipkart</th>\n",
       "      <td>14013</td>\n",
       "      <td>3300</td>\n",
       "      <td>31982</td>\n",
       "      <td>29140</td>\n",
       "      <td>5900</td>\n",
       "      <td>9500</td>\n",
       "      <td>14191</td>\n",
       "      <td>12234</td>\n",
       "      <td>2400</td>\n",
       "    </tr>\n",
       "    <tr>\n",
       "      <th>Meesho</th>\n",
       "      <td>8013</td>\n",
       "      <td>2048</td>\n",
       "      <td>19243</td>\n",
       "      <td>17232</td>\n",
       "      <td>3506</td>\n",
       "      <td>5750</td>\n",
       "      <td>8534</td>\n",
       "      <td>7424</td>\n",
       "      <td>1521</td>\n",
       "    </tr>\n",
       "    <tr>\n",
       "      <th>Shopify</th>\n",
       "      <td>4475</td>\n",
       "      <td>1155</td>\n",
       "      <td>10229</td>\n",
       "      <td>9253</td>\n",
       "      <td>1809</td>\n",
       "      <td>3141</td>\n",
       "      <td>4649</td>\n",
       "      <td>3948</td>\n",
       "      <td>757</td>\n",
       "    </tr>\n",
       "  </tbody>\n",
       "</table>\n",
       "</div>"
      ],
      "text/plain": [
       "product_category  Beauty & Personal Care  Books  Electronics  \\\n",
       "platform                                                       \n",
       "Alibaba                             8475   2041        19207   \n",
       "Amazon                             16581   4054        43486   \n",
       "Cred                                2784    648         6511   \n",
       "Ebay                                1152    268         2580   \n",
       "Flipkart                           14013   3300        31982   \n",
       "Meesho                              8013   2048        19243   \n",
       "Shopify                             4475   1155        10229   \n",
       "\n",
       "product_category  Fashion & Apparel  Garden & Outdoor  Home Decor  \\\n",
       "platform                                                            \n",
       "Alibaba                       17173              3511        5796   \n",
       "Amazon                        34752              7012       11092   \n",
       "Cred                           5808              1189        1920   \n",
       "Ebay                           2375               475         751   \n",
       "Flipkart                      29140              5900        9500   \n",
       "Meesho                        17232              3506        5750   \n",
       "Shopify                        9253              1809        3141   \n",
       "\n",
       "product_category  Kitchen Appliances  Sports  Toys & Games  \n",
       "platform                                                    \n",
       "Alibaba                         8603    7346          1432  \n",
       "Amazon                         16749   14761          2956  \n",
       "Cred                            2913    2508           460  \n",
       "Ebay                            1150     999           194  \n",
       "Flipkart                       14191   12234          2400  \n",
       "Meesho                          8534    7424          1521  \n",
       "Shopify                         4649    3948           757  "
      ]
     },
     "execution_count": 21,
     "metadata": {},
     "output_type": "execute_result"
    }
   ],
   "source": [
    "pd.crosstab(df_tran['platform'], df_tran['product_category'])"
   ]
  },
  {
   "cell_type": "code",
   "execution_count": 43,
   "id": "4d3abf7e-ff69-482f-9d05-86562303c5d6",
   "metadata": {},
   "outputs": [
    {
     "data": {
      "text/html": [
       "<div>\n",
       "<style scoped>\n",
       "    .dataframe tbody tr th:only-of-type {\n",
       "        vertical-align: middle;\n",
       "    }\n",
       "\n",
       "    .dataframe tbody tr th {\n",
       "        vertical-align: top;\n",
       "    }\n",
       "\n",
       "    .dataframe thead th {\n",
       "        text-align: right;\n",
       "    }\n",
       "</style>\n",
       "<table border=\"1\" class=\"dataframe\">\n",
       "  <thead>\n",
       "    <tr style=\"text-align: right;\">\n",
       "      <th></th>\n",
       "      <th>product_category</th>\n",
       "      <th>platform</th>\n",
       "    </tr>\n",
       "  </thead>\n",
       "  <tbody>\n",
       "    <tr>\n",
       "      <th>0</th>\n",
       "      <td>Beauty &amp; Personal Care</td>\n",
       "      <td>Amazon</td>\n",
       "    </tr>\n",
       "    <tr>\n",
       "      <th>1</th>\n",
       "      <td>Books</td>\n",
       "      <td>Amazon</td>\n",
       "    </tr>\n",
       "    <tr>\n",
       "      <th>2</th>\n",
       "      <td>Electronics</td>\n",
       "      <td>Amazon</td>\n",
       "    </tr>\n",
       "    <tr>\n",
       "      <th>3</th>\n",
       "      <td>Fashion &amp; Apparel</td>\n",
       "      <td>Amazon</td>\n",
       "    </tr>\n",
       "    <tr>\n",
       "      <th>4</th>\n",
       "      <td>Garden &amp; Outdoor</td>\n",
       "      <td>Amazon</td>\n",
       "    </tr>\n",
       "    <tr>\n",
       "      <th>5</th>\n",
       "      <td>Home Decor</td>\n",
       "      <td>Amazon</td>\n",
       "    </tr>\n",
       "    <tr>\n",
       "      <th>6</th>\n",
       "      <td>Kitchen Appliances</td>\n",
       "      <td>Amazon</td>\n",
       "    </tr>\n",
       "    <tr>\n",
       "      <th>7</th>\n",
       "      <td>Sports</td>\n",
       "      <td>Amazon</td>\n",
       "    </tr>\n",
       "    <tr>\n",
       "      <th>8</th>\n",
       "      <td>Toys &amp; Games</td>\n",
       "      <td>Amazon</td>\n",
       "    </tr>\n",
       "  </tbody>\n",
       "</table>\n",
       "</div>"
      ],
      "text/plain": [
       "         product_category platform\n",
       "0  Beauty & Personal Care   Amazon\n",
       "1                   Books   Amazon\n",
       "2             Electronics   Amazon\n",
       "3       Fashion & Apparel   Amazon\n",
       "4        Garden & Outdoor   Amazon\n",
       "5              Home Decor   Amazon\n",
       "6      Kitchen Appliances   Amazon\n",
       "7                  Sports   Amazon\n",
       "8            Toys & Games   Amazon"
      ]
     },
     "execution_count": 43,
     "metadata": {},
     "output_type": "execute_result"
    }
   ],
   "source": [
    "# Group by 'product_category' and find the mode (most frequent) platform\n",
    "df_tran.groupby('product_category')['platform'].apply(lambda x: x.mode().iloc[0]).reset_index()"
   ]
  },
  {
   "cell_type": "code",
   "execution_count": null,
   "id": "671fbe91-8606-4a4e-9994-5af50a573876",
   "metadata": {},
   "outputs": [],
   "source": [
    "# so as we can see most used platform for all categories is Amoazon so we replace those Nan vlaues to Amazon"
   ]
  },
  {
   "cell_type": "code",
   "execution_count": 44,
   "id": "f3e1deab-d62d-400f-924a-fb49a556ba8a",
   "metadata": {},
   "outputs": [
    {
     "data": {
      "text/plain": [
       "0         Flipkart\n",
       "1          Alibaba\n",
       "2          Shopify\n",
       "3          Shopify\n",
       "4           Amazon\n",
       "            ...   \n",
       "499995      Amazon\n",
       "499996      Meesho\n",
       "499997      Amazon\n",
       "499998    Flipkart\n",
       "499999      Amazon\n",
       "Name: platform, Length: 500000, dtype: object"
      ]
     },
     "execution_count": 44,
     "metadata": {},
     "output_type": "execute_result"
    }
   ],
   "source": [
    "# Filling NaN values in the 'platform' column with the most common 'platform' within each 'product_category'\n",
    "\n",
    "df_tran.groupby('product_category')['platform'].transform(lambda x: x.fillna(x.mode()[0]))"
   ]
  },
  {
   "cell_type": "code",
   "execution_count": 45,
   "id": "983a8b2f-75f9-4b64-a331-5cb8ac6afeda",
   "metadata": {},
   "outputs": [
    {
     "data": {
      "text/html": [
       "<div>\n",
       "<style scoped>\n",
       "    .dataframe tbody tr th:only-of-type {\n",
       "        vertical-align: middle;\n",
       "    }\n",
       "\n",
       "    .dataframe tbody tr th {\n",
       "        vertical-align: top;\n",
       "    }\n",
       "\n",
       "    .dataframe thead th {\n",
       "        text-align: right;\n",
       "    }\n",
       "</style>\n",
       "<table border=\"1\" class=\"dataframe\">\n",
       "  <thead>\n",
       "    <tr style=\"text-align: right;\">\n",
       "      <th></th>\n",
       "      <th>tran_id</th>\n",
       "      <th>cust_id</th>\n",
       "      <th>tran_date</th>\n",
       "      <th>tran_amount</th>\n",
       "      <th>platform</th>\n",
       "      <th>product_category</th>\n",
       "      <th>payment_type</th>\n",
       "    </tr>\n",
       "  </thead>\n",
       "  <tbody>\n",
       "  </tbody>\n",
       "</table>\n",
       "</div>"
      ],
      "text/plain": [
       "Empty DataFrame\n",
       "Columns: [tran_id, cust_id, tran_date, tran_amount, platform, product_category, payment_type]\n",
       "Index: []"
      ]
     },
     "execution_count": 45,
     "metadata": {},
     "output_type": "execute_result"
    }
   ],
   "source": [
    "df_tran[df_tran['platform'].isnull()]"
   ]
  },
  {
   "cell_type": "code",
   "execution_count": 31,
   "id": "637a273e-8ffe-48a0-b2b9-7606e4befd9e",
   "metadata": {},
   "outputs": [
    {
     "data": {
      "text/html": [
       "<div>\n",
       "<style scoped>\n",
       "    .dataframe tbody tr th:only-of-type {\n",
       "        vertical-align: middle;\n",
       "    }\n",
       "\n",
       "    .dataframe tbody tr th {\n",
       "        vertical-align: top;\n",
       "    }\n",
       "\n",
       "    .dataframe thead th {\n",
       "        text-align: right;\n",
       "    }\n",
       "</style>\n",
       "<table border=\"1\" class=\"dataframe\">\n",
       "  <thead>\n",
       "    <tr style=\"text-align: right;\">\n",
       "      <th></th>\n",
       "      <th>tran_id</th>\n",
       "      <th>cust_id</th>\n",
       "      <th>tran_date</th>\n",
       "      <th>tran_amount</th>\n",
       "      <th>platform</th>\n",
       "      <th>product_category</th>\n",
       "      <th>payment_type</th>\n",
       "    </tr>\n",
       "  </thead>\n",
       "  <tbody>\n",
       "    <tr>\n",
       "      <th>355</th>\n",
       "      <td>356</td>\n",
       "      <td>58</td>\n",
       "      <td>2023-01-01</td>\n",
       "      <td>237</td>\n",
       "      <td>Amazon</td>\n",
       "      <td>Electronics</td>\n",
       "      <td>Net Banking</td>\n",
       "    </tr>\n",
       "  </tbody>\n",
       "</table>\n",
       "</div>"
      ],
      "text/plain": [
       "     tran_id  cust_id   tran_date  tran_amount platform product_category  \\\n",
       "355      356       58  2023-01-01          237   Amazon      Electronics   \n",
       "\n",
       "    payment_type  \n",
       "355  Net Banking  "
      ]
     },
     "execution_count": 31,
     "metadata": {},
     "output_type": "execute_result"
    }
   ],
   "source": [
    "df_tran[df_tran['tran_id'] == 356]"
   ]
  },
  {
   "cell_type": "markdown",
   "id": "93f2a7fa-f232-41c4-ad6d-40b8aaaea964",
   "metadata": {},
   "source": [
    "## Finding outlier for transactions data-frame"
   ]
  },
  {
   "cell_type": "code",
   "execution_count": 48,
   "id": "eb465386-cca7-464e-98a1-53ffbc658bbd",
   "metadata": {},
   "outputs": [
    {
     "data": {
      "text/html": [
       "<div>\n",
       "<style scoped>\n",
       "    .dataframe tbody tr th:only-of-type {\n",
       "        vertical-align: middle;\n",
       "    }\n",
       "\n",
       "    .dataframe tbody tr th {\n",
       "        vertical-align: top;\n",
       "    }\n",
       "\n",
       "    .dataframe thead th {\n",
       "        text-align: right;\n",
       "    }\n",
       "</style>\n",
       "<table border=\"1\" class=\"dataframe\">\n",
       "  <thead>\n",
       "    <tr style=\"text-align: right;\">\n",
       "      <th></th>\n",
       "      <th>tran_id</th>\n",
       "      <th>cust_id</th>\n",
       "      <th>tran_amount</th>\n",
       "    </tr>\n",
       "  </thead>\n",
       "  <tbody>\n",
       "    <tr>\n",
       "      <th>count</th>\n",
       "      <td>500000.000000</td>\n",
       "      <td>500000.000000</td>\n",
       "      <td>500000.00000</td>\n",
       "    </tr>\n",
       "    <tr>\n",
       "      <th>mean</th>\n",
       "      <td>250000.500000</td>\n",
       "      <td>501.400428</td>\n",
       "      <td>3225.20733</td>\n",
       "    </tr>\n",
       "    <tr>\n",
       "      <th>std</th>\n",
       "      <td>144337.711634</td>\n",
       "      <td>288.641924</td>\n",
       "      <td>13098.74276</td>\n",
       "    </tr>\n",
       "    <tr>\n",
       "      <th>min</th>\n",
       "      <td>1.000000</td>\n",
       "      <td>1.000000</td>\n",
       "      <td>0.00000</td>\n",
       "    </tr>\n",
       "    <tr>\n",
       "      <th>25%</th>\n",
       "      <td>125000.750000</td>\n",
       "      <td>252.000000</td>\n",
       "      <td>64.00000</td>\n",
       "    </tr>\n",
       "    <tr>\n",
       "      <th>50%</th>\n",
       "      <td>250000.500000</td>\n",
       "      <td>502.000000</td>\n",
       "      <td>141.00000</td>\n",
       "    </tr>\n",
       "    <tr>\n",
       "      <th>75%</th>\n",
       "      <td>375000.250000</td>\n",
       "      <td>752.000000</td>\n",
       "      <td>397.00000</td>\n",
       "    </tr>\n",
       "    <tr>\n",
       "      <th>max</th>\n",
       "      <td>500000.000000</td>\n",
       "      <td>1000.000000</td>\n",
       "      <td>69999.00000</td>\n",
       "    </tr>\n",
       "  </tbody>\n",
       "</table>\n",
       "</div>"
      ],
      "text/plain": [
       "             tran_id        cust_id   tran_amount\n",
       "count  500000.000000  500000.000000  500000.00000\n",
       "mean   250000.500000     501.400428    3225.20733\n",
       "std    144337.711634     288.641924   13098.74276\n",
       "min         1.000000       1.000000       0.00000\n",
       "25%    125000.750000     252.000000      64.00000\n",
       "50%    250000.500000     502.000000     141.00000\n",
       "75%    375000.250000     752.000000     397.00000\n",
       "max    500000.000000    1000.000000   69999.00000"
      ]
     },
     "execution_count": 48,
     "metadata": {},
     "output_type": "execute_result"
    }
   ],
   "source": [
    "df_tran.describe()"
   ]
  },
  {
   "cell_type": "code",
   "execution_count": 49,
   "id": "072fcab0-ad4d-454f-9e50-fc7b1e308a0c",
   "metadata": {},
   "outputs": [],
   "source": [
    "# by confirming with the business manager that 0 amount is invlaid"
   ]
  },
  {
   "cell_type": "code",
   "execution_count": 50,
   "id": "ae3befb8-8a18-4f85-83f8-7758575b6c12",
   "metadata": {},
   "outputs": [
    {
     "data": {
      "text/html": [
       "<div>\n",
       "<style scoped>\n",
       "    .dataframe tbody tr th:only-of-type {\n",
       "        vertical-align: middle;\n",
       "    }\n",
       "\n",
       "    .dataframe tbody tr th {\n",
       "        vertical-align: top;\n",
       "    }\n",
       "\n",
       "    .dataframe thead th {\n",
       "        text-align: right;\n",
       "    }\n",
       "</style>\n",
       "<table border=\"1\" class=\"dataframe\">\n",
       "  <thead>\n",
       "    <tr style=\"text-align: right;\">\n",
       "      <th></th>\n",
       "      <th>tran_id</th>\n",
       "      <th>cust_id</th>\n",
       "      <th>tran_date</th>\n",
       "      <th>tran_amount</th>\n",
       "      <th>platform</th>\n",
       "      <th>product_category</th>\n",
       "      <th>payment_type</th>\n",
       "    </tr>\n",
       "  </thead>\n",
       "  <tbody>\n",
       "    <tr>\n",
       "      <th>120</th>\n",
       "      <td>121</td>\n",
       "      <td>440</td>\n",
       "      <td>2023-01-01</td>\n",
       "      <td>0</td>\n",
       "      <td>Amazon</td>\n",
       "      <td>Electronics</td>\n",
       "      <td>Credit Card</td>\n",
       "    </tr>\n",
       "    <tr>\n",
       "      <th>141</th>\n",
       "      <td>142</td>\n",
       "      <td>839</td>\n",
       "      <td>2023-01-01</td>\n",
       "      <td>0</td>\n",
       "      <td>Amazon</td>\n",
       "      <td>Electronics</td>\n",
       "      <td>Credit Card</td>\n",
       "    </tr>\n",
       "    <tr>\n",
       "      <th>517</th>\n",
       "      <td>518</td>\n",
       "      <td>147</td>\n",
       "      <td>2023-01-01</td>\n",
       "      <td>0</td>\n",
       "      <td>Amazon</td>\n",
       "      <td>Electronics</td>\n",
       "      <td>Credit Card</td>\n",
       "    </tr>\n",
       "    <tr>\n",
       "      <th>533</th>\n",
       "      <td>534</td>\n",
       "      <td>891</td>\n",
       "      <td>2023-01-01</td>\n",
       "      <td>0</td>\n",
       "      <td>Amazon</td>\n",
       "      <td>Electronics</td>\n",
       "      <td>Credit Card</td>\n",
       "    </tr>\n",
       "    <tr>\n",
       "      <th>586</th>\n",
       "      <td>587</td>\n",
       "      <td>108</td>\n",
       "      <td>2023-01-01</td>\n",
       "      <td>0</td>\n",
       "      <td>Amazon</td>\n",
       "      <td>Electronics</td>\n",
       "      <td>Credit Card</td>\n",
       "    </tr>\n",
       "  </tbody>\n",
       "</table>\n",
       "</div>"
      ],
      "text/plain": [
       "     tran_id  cust_id   tran_date  tran_amount platform product_category  \\\n",
       "120      121      440  2023-01-01            0   Amazon      Electronics   \n",
       "141      142      839  2023-01-01            0   Amazon      Electronics   \n",
       "517      518      147  2023-01-01            0   Amazon      Electronics   \n",
       "533      534      891  2023-01-01            0   Amazon      Electronics   \n",
       "586      587      108  2023-01-01            0   Amazon      Electronics   \n",
       "\n",
       "    payment_type  \n",
       "120  Credit Card  \n",
       "141  Credit Card  \n",
       "517  Credit Card  \n",
       "533  Credit Card  \n",
       "586  Credit Card  "
      ]
     },
     "execution_count": 50,
     "metadata": {},
     "output_type": "execute_result"
    }
   ],
   "source": [
    "df_tran[df_tran['tran_amount'] == 0].head()"
   ]
  },
  {
   "cell_type": "code",
   "execution_count": 54,
   "id": "699b0272-58d8-4a0b-8f62-841c92f7f83e",
   "metadata": {},
   "outputs": [
    {
     "data": {
      "text/plain": [
       "tran_id  cust_id  tran_date   tran_amount  platform  product_category  payment_type\n",
       "121      440      2023-01-01  0            Amazon    Electronics       Credit Card     1\n",
       "332551   164      2023-06-15  0            Amazon    Electronics       Credit Card     1\n",
       "334046   573      2023-06-15  0            Amazon    Electronics       Credit Card     1\n",
       "333876   841      2023-06-15  0            Amazon    Electronics       Credit Card     1\n",
       "333733   122      2023-06-15  0            Amazon    Electronics       Credit Card     1\n",
       "                                                                                      ..\n",
       "160873   802      2023-03-21  0            Amazon    Electronics       Credit Card     1\n",
       "160812   430      2023-03-21  0            Amazon    Electronics       Credit Card     1\n",
       "160457   834      2023-03-21  0            Amazon    Electronics       Credit Card     1\n",
       "160368   185      2023-03-21  0            Amazon    Electronics       Credit Card     1\n",
       "499973   224      2023-09-05  0            Amazon    Electronics       Credit Card     1\n",
       "Name: count, Length: 4734, dtype: int64"
      ]
     },
     "execution_count": 54,
     "metadata": {},
     "output_type": "execute_result"
    }
   ],
   "source": [
    "df_tran_zero = df_tran[df_tran['tran_amount'] == 0]\n",
    "df_tran_zero.value_counts()"
   ]
  },
  {
   "cell_type": "code",
   "execution_count": 53,
   "id": "4a515ba3-ad11-40d3-80f1-36c80189ec71",
   "metadata": {},
   "outputs": [],
   "source": [
    "# 4734 rows have the 0 amount"
   ]
  },
  {
   "cell_type": "code",
   "execution_count": 55,
   "id": "571127e6-88cd-4f02-8a77-081bba37fe94",
   "metadata": {},
   "outputs": [
    {
     "data": {
      "text/plain": [
       "platform  product_category  payment_type\n",
       "Amazon    Electronics       Credit Card     4734\n",
       "Name: count, dtype: int64"
      ]
     },
     "execution_count": 55,
     "metadata": {},
     "output_type": "execute_result"
    }
   ],
   "source": [
    "df_tran_zero[[\"platform\", \"product_category\", \"payment_type\"]].value_counts()"
   ]
  },
  {
   "cell_type": "code",
   "execution_count": null,
   "id": "c2154552-b24e-4980-b123-da9f2c5cca1c",
   "metadata": {},
   "outputs": [],
   "source": [
    "# means all the 0 transaction are donw form same platform[Amazon], same type of product_category and same payment method [Credit card]"
   ]
  },
  {
   "cell_type": "code",
   "execution_count": 58,
   "id": "4097555d-edb4-4958-87f7-c96b73f64ace",
   "metadata": {},
   "outputs": [
    {
     "data": {
      "text/html": [
       "<div>\n",
       "<style scoped>\n",
       "    .dataframe tbody tr th:only-of-type {\n",
       "        vertical-align: middle;\n",
       "    }\n",
       "\n",
       "    .dataframe tbody tr th {\n",
       "        vertical-align: top;\n",
       "    }\n",
       "\n",
       "    .dataframe thead th {\n",
       "        text-align: right;\n",
       "    }\n",
       "</style>\n",
       "<table border=\"1\" class=\"dataframe\">\n",
       "  <thead>\n",
       "    <tr style=\"text-align: right;\">\n",
       "      <th></th>\n",
       "      <th>tran_id</th>\n",
       "      <th>cust_id</th>\n",
       "      <th>tran_date</th>\n",
       "      <th>tran_amount</th>\n",
       "      <th>platform</th>\n",
       "      <th>product_category</th>\n",
       "      <th>payment_type</th>\n",
       "    </tr>\n",
       "  </thead>\n",
       "  <tbody>\n",
       "    <tr>\n",
       "      <th>109</th>\n",
       "      <td>110</td>\n",
       "      <td>887</td>\n",
       "      <td>2023-01-01</td>\n",
       "      <td>635</td>\n",
       "      <td>Amazon</td>\n",
       "      <td>Electronics</td>\n",
       "      <td>Credit Card</td>\n",
       "    </tr>\n",
       "    <tr>\n",
       "      <th>120</th>\n",
       "      <td>121</td>\n",
       "      <td>440</td>\n",
       "      <td>2023-01-01</td>\n",
       "      <td>0</td>\n",
       "      <td>Amazon</td>\n",
       "      <td>Electronics</td>\n",
       "      <td>Credit Card</td>\n",
       "    </tr>\n",
       "    <tr>\n",
       "      <th>141</th>\n",
       "      <td>142</td>\n",
       "      <td>839</td>\n",
       "      <td>2023-01-01</td>\n",
       "      <td>0</td>\n",
       "      <td>Amazon</td>\n",
       "      <td>Electronics</td>\n",
       "      <td>Credit Card</td>\n",
       "    </tr>\n",
       "    <tr>\n",
       "      <th>173</th>\n",
       "      <td>174</td>\n",
       "      <td>676</td>\n",
       "      <td>2023-01-01</td>\n",
       "      <td>60439</td>\n",
       "      <td>Amazon</td>\n",
       "      <td>Electronics</td>\n",
       "      <td>Credit Card</td>\n",
       "    </tr>\n",
       "    <tr>\n",
       "      <th>190</th>\n",
       "      <td>191</td>\n",
       "      <td>763</td>\n",
       "      <td>2023-01-01</td>\n",
       "      <td>697</td>\n",
       "      <td>Amazon</td>\n",
       "      <td>Electronics</td>\n",
       "      <td>Credit Card</td>\n",
       "    </tr>\n",
       "    <tr>\n",
       "      <th>...</th>\n",
       "      <td>...</td>\n",
       "      <td>...</td>\n",
       "      <td>...</td>\n",
       "      <td>...</td>\n",
       "      <td>...</td>\n",
       "      <td>...</td>\n",
       "      <td>...</td>\n",
       "    </tr>\n",
       "    <tr>\n",
       "      <th>499812</th>\n",
       "      <td>499813</td>\n",
       "      <td>688</td>\n",
       "      <td>2023-09-05</td>\n",
       "      <td>425</td>\n",
       "      <td>Amazon</td>\n",
       "      <td>Electronics</td>\n",
       "      <td>Credit Card</td>\n",
       "    </tr>\n",
       "    <tr>\n",
       "      <th>499860</th>\n",
       "      <td>499861</td>\n",
       "      <td>373</td>\n",
       "      <td>2023-09-05</td>\n",
       "      <td>480</td>\n",
       "      <td>Amazon</td>\n",
       "      <td>Electronics</td>\n",
       "      <td>Credit Card</td>\n",
       "    </tr>\n",
       "    <tr>\n",
       "      <th>499885</th>\n",
       "      <td>499886</td>\n",
       "      <td>520</td>\n",
       "      <td>2023-09-05</td>\n",
       "      <td>643</td>\n",
       "      <td>Amazon</td>\n",
       "      <td>Electronics</td>\n",
       "      <td>Credit Card</td>\n",
       "    </tr>\n",
       "    <tr>\n",
       "      <th>499928</th>\n",
       "      <td>499929</td>\n",
       "      <td>4</td>\n",
       "      <td>2023-09-05</td>\n",
       "      <td>0</td>\n",
       "      <td>Amazon</td>\n",
       "      <td>Electronics</td>\n",
       "      <td>Credit Card</td>\n",
       "    </tr>\n",
       "    <tr>\n",
       "      <th>499972</th>\n",
       "      <td>499973</td>\n",
       "      <td>224</td>\n",
       "      <td>2023-09-05</td>\n",
       "      <td>0</td>\n",
       "      <td>Amazon</td>\n",
       "      <td>Electronics</td>\n",
       "      <td>Credit Card</td>\n",
       "    </tr>\n",
       "  </tbody>\n",
       "</table>\n",
       "<p>15637 rows × 7 columns</p>\n",
       "</div>"
      ],
      "text/plain": [
       "        tran_id  cust_id   tran_date  tran_amount platform product_category  \\\n",
       "109         110      887  2023-01-01          635   Amazon      Electronics   \n",
       "120         121      440  2023-01-01            0   Amazon      Electronics   \n",
       "141         142      839  2023-01-01            0   Amazon      Electronics   \n",
       "173         174      676  2023-01-01        60439   Amazon      Electronics   \n",
       "190         191      763  2023-01-01          697   Amazon      Electronics   \n",
       "...         ...      ...         ...          ...      ...              ...   \n",
       "499812   499813      688  2023-09-05          425   Amazon      Electronics   \n",
       "499860   499861      373  2023-09-05          480   Amazon      Electronics   \n",
       "499885   499886      520  2023-09-05          643   Amazon      Electronics   \n",
       "499928   499929        4  2023-09-05            0   Amazon      Electronics   \n",
       "499972   499973      224  2023-09-05            0   Amazon      Electronics   \n",
       "\n",
       "       payment_type  \n",
       "109     Credit Card  \n",
       "120     Credit Card  \n",
       "141     Credit Card  \n",
       "173     Credit Card  \n",
       "190     Credit Card  \n",
       "...             ...  \n",
       "499812  Credit Card  \n",
       "499860  Credit Card  \n",
       "499885  Credit Card  \n",
       "499928  Credit Card  \n",
       "499972  Credit Card  \n",
       "\n",
       "[15637 rows x 7 columns]"
      ]
     },
     "execution_count": 58,
     "metadata": {},
     "output_type": "execute_result"
    }
   ],
   "source": [
    "df_tran_outlier = df_tran[(df_tran[\"platform\"] == \"Amazon\") & (df_tran[\"product_category\"] == \"Electronics\") & (df_tran[\"payment_type\"] == \"Credit Card\")]\n",
    "df_tran_outlier"
   ]
  },
  {
   "cell_type": "code",
   "execution_count": 64,
   "id": "dfb9a453-a753-44bd-861e-77357a25e0b0",
   "metadata": {},
   "outputs": [
    {
     "data": {
      "text/plain": [
       "(15637, 7)"
      ]
     },
     "execution_count": 64,
     "metadata": {},
     "output_type": "execute_result"
    }
   ],
   "source": [
    "df_tran_outlier.shape"
   ]
  },
  {
   "cell_type": "code",
   "execution_count": 65,
   "id": "fd2b24b0-c01f-4f08-a9d0-748b17f49f1b",
   "metadata": {},
   "outputs": [
    {
     "data": {
      "text/html": [
       "<div>\n",
       "<style scoped>\n",
       "    .dataframe tbody tr th:only-of-type {\n",
       "        vertical-align: middle;\n",
       "    }\n",
       "\n",
       "    .dataframe tbody tr th {\n",
       "        vertical-align: top;\n",
       "    }\n",
       "\n",
       "    .dataframe thead th {\n",
       "        text-align: right;\n",
       "    }\n",
       "</style>\n",
       "<table border=\"1\" class=\"dataframe\">\n",
       "  <thead>\n",
       "    <tr style=\"text-align: right;\">\n",
       "      <th></th>\n",
       "      <th>tran_id</th>\n",
       "      <th>cust_id</th>\n",
       "      <th>tran_date</th>\n",
       "      <th>tran_amount</th>\n",
       "      <th>platform</th>\n",
       "      <th>product_category</th>\n",
       "      <th>payment_type</th>\n",
       "    </tr>\n",
       "  </thead>\n",
       "  <tbody>\n",
       "    <tr>\n",
       "      <th>109</th>\n",
       "      <td>110</td>\n",
       "      <td>887</td>\n",
       "      <td>2023-01-01</td>\n",
       "      <td>635</td>\n",
       "      <td>Amazon</td>\n",
       "      <td>Electronics</td>\n",
       "      <td>Credit Card</td>\n",
       "    </tr>\n",
       "    <tr>\n",
       "      <th>173</th>\n",
       "      <td>174</td>\n",
       "      <td>676</td>\n",
       "      <td>2023-01-01</td>\n",
       "      <td>60439</td>\n",
       "      <td>Amazon</td>\n",
       "      <td>Electronics</td>\n",
       "      <td>Credit Card</td>\n",
       "    </tr>\n",
       "    <tr>\n",
       "      <th>190</th>\n",
       "      <td>191</td>\n",
       "      <td>763</td>\n",
       "      <td>2023-01-01</td>\n",
       "      <td>697</td>\n",
       "      <td>Amazon</td>\n",
       "      <td>Electronics</td>\n",
       "      <td>Credit Card</td>\n",
       "    </tr>\n",
       "    <tr>\n",
       "      <th>263</th>\n",
       "      <td>264</td>\n",
       "      <td>528</td>\n",
       "      <td>2023-01-01</td>\n",
       "      <td>421</td>\n",
       "      <td>Amazon</td>\n",
       "      <td>Electronics</td>\n",
       "      <td>Credit Card</td>\n",
       "    </tr>\n",
       "    <tr>\n",
       "      <th>311</th>\n",
       "      <td>312</td>\n",
       "      <td>936</td>\n",
       "      <td>2023-01-01</td>\n",
       "      <td>537</td>\n",
       "      <td>Amazon</td>\n",
       "      <td>Electronics</td>\n",
       "      <td>Credit Card</td>\n",
       "    </tr>\n",
       "    <tr>\n",
       "      <th>...</th>\n",
       "      <td>...</td>\n",
       "      <td>...</td>\n",
       "      <td>...</td>\n",
       "      <td>...</td>\n",
       "      <td>...</td>\n",
       "      <td>...</td>\n",
       "      <td>...</td>\n",
       "    </tr>\n",
       "    <tr>\n",
       "      <th>499766</th>\n",
       "      <td>499767</td>\n",
       "      <td>723</td>\n",
       "      <td>2023-09-05</td>\n",
       "      <td>909</td>\n",
       "      <td>Amazon</td>\n",
       "      <td>Electronics</td>\n",
       "      <td>Credit Card</td>\n",
       "    </tr>\n",
       "    <tr>\n",
       "      <th>499793</th>\n",
       "      <td>499794</td>\n",
       "      <td>586</td>\n",
       "      <td>2023-09-05</td>\n",
       "      <td>304</td>\n",
       "      <td>Amazon</td>\n",
       "      <td>Electronics</td>\n",
       "      <td>Credit Card</td>\n",
       "    </tr>\n",
       "    <tr>\n",
       "      <th>499812</th>\n",
       "      <td>499813</td>\n",
       "      <td>688</td>\n",
       "      <td>2023-09-05</td>\n",
       "      <td>425</td>\n",
       "      <td>Amazon</td>\n",
       "      <td>Electronics</td>\n",
       "      <td>Credit Card</td>\n",
       "    </tr>\n",
       "    <tr>\n",
       "      <th>499860</th>\n",
       "      <td>499861</td>\n",
       "      <td>373</td>\n",
       "      <td>2023-09-05</td>\n",
       "      <td>480</td>\n",
       "      <td>Amazon</td>\n",
       "      <td>Electronics</td>\n",
       "      <td>Credit Card</td>\n",
       "    </tr>\n",
       "    <tr>\n",
       "      <th>499885</th>\n",
       "      <td>499886</td>\n",
       "      <td>520</td>\n",
       "      <td>2023-09-05</td>\n",
       "      <td>643</td>\n",
       "      <td>Amazon</td>\n",
       "      <td>Electronics</td>\n",
       "      <td>Credit Card</td>\n",
       "    </tr>\n",
       "  </tbody>\n",
       "</table>\n",
       "<p>10903 rows × 7 columns</p>\n",
       "</div>"
      ],
      "text/plain": [
       "        tran_id  cust_id   tran_date  tran_amount platform product_category  \\\n",
       "109         110      887  2023-01-01          635   Amazon      Electronics   \n",
       "173         174      676  2023-01-01        60439   Amazon      Electronics   \n",
       "190         191      763  2023-01-01          697   Amazon      Electronics   \n",
       "263         264      528  2023-01-01          421   Amazon      Electronics   \n",
       "311         312      936  2023-01-01          537   Amazon      Electronics   \n",
       "...         ...      ...         ...          ...      ...              ...   \n",
       "499766   499767      723  2023-09-05          909   Amazon      Electronics   \n",
       "499793   499794      586  2023-09-05          304   Amazon      Electronics   \n",
       "499812   499813      688  2023-09-05          425   Amazon      Electronics   \n",
       "499860   499861      373  2023-09-05          480   Amazon      Electronics   \n",
       "499885   499886      520  2023-09-05          643   Amazon      Electronics   \n",
       "\n",
       "       payment_type  \n",
       "109     Credit Card  \n",
       "173     Credit Card  \n",
       "190     Credit Card  \n",
       "263     Credit Card  \n",
       "311     Credit Card  \n",
       "...             ...  \n",
       "499766  Credit Card  \n",
       "499793  Credit Card  \n",
       "499812  Credit Card  \n",
       "499860  Credit Card  \n",
       "499885  Credit Card  \n",
       "\n",
       "[10903 rows x 7 columns]"
      ]
     },
     "execution_count": 65,
     "metadata": {},
     "output_type": "execute_result"
    }
   ],
   "source": [
    "df_tran_outlier[df_tran_outlier.tran_amount > 0]"
   ]
  },
  {
   "cell_type": "code",
   "execution_count": 66,
   "id": "5e9c431a-1cce-4cb8-af63-38cb5c8bc3cf",
   "metadata": {},
   "outputs": [
    {
     "data": {
      "text/plain": [
       "554.0"
      ]
     },
     "execution_count": 66,
     "metadata": {},
     "output_type": "execute_result"
    }
   ],
   "source": [
    "median_to_replace = df_tran_outlier[df_tran_outlier.tran_amount > 0].tran_amount.median()\n",
    "median_to_replace"
   ]
  },
  {
   "cell_type": "code",
   "execution_count": 68,
   "id": "9e873aaf-df1a-431f-8fc3-3fce074fb9be",
   "metadata": {},
   "outputs": [],
   "source": [
    "df_tran['tran_amount'].replace(0, median_to_replace, inplace=True)"
   ]
  },
  {
   "cell_type": "code",
   "execution_count": 70,
   "id": "832f9ab8-300b-4979-a80b-e96176ec5a14",
   "metadata": {},
   "outputs": [
    {
     "data": {
      "text/html": [
       "<div>\n",
       "<style scoped>\n",
       "    .dataframe tbody tr th:only-of-type {\n",
       "        vertical-align: middle;\n",
       "    }\n",
       "\n",
       "    .dataframe tbody tr th {\n",
       "        vertical-align: top;\n",
       "    }\n",
       "\n",
       "    .dataframe thead th {\n",
       "        text-align: right;\n",
       "    }\n",
       "</style>\n",
       "<table border=\"1\" class=\"dataframe\">\n",
       "  <thead>\n",
       "    <tr style=\"text-align: right;\">\n",
       "      <th></th>\n",
       "      <th>tran_id</th>\n",
       "      <th>cust_id</th>\n",
       "      <th>tran_date</th>\n",
       "      <th>tran_amount</th>\n",
       "      <th>platform</th>\n",
       "      <th>product_category</th>\n",
       "      <th>payment_type</th>\n",
       "    </tr>\n",
       "  </thead>\n",
       "  <tbody>\n",
       "  </tbody>\n",
       "</table>\n",
       "</div>"
      ],
      "text/plain": [
       "Empty DataFrame\n",
       "Columns: [tran_id, cust_id, tran_date, tran_amount, platform, product_category, payment_type]\n",
       "Index: []"
      ]
     },
     "execution_count": 70,
     "metadata": {},
     "output_type": "execute_result"
    }
   ],
   "source": [
    "df_tran[df_tran['tran_amount'] == 0]"
   ]
  },
  {
   "cell_type": "code",
   "execution_count": 71,
   "id": "0e2039ac-cc66-492d-b8a7-635bf227eec8",
   "metadata": {},
   "outputs": [
    {
     "data": {
      "text/html": [
       "<div>\n",
       "<style scoped>\n",
       "    .dataframe tbody tr th:only-of-type {\n",
       "        vertical-align: middle;\n",
       "    }\n",
       "\n",
       "    .dataframe tbody tr th {\n",
       "        vertical-align: top;\n",
       "    }\n",
       "\n",
       "    .dataframe thead th {\n",
       "        text-align: right;\n",
       "    }\n",
       "</style>\n",
       "<table border=\"1\" class=\"dataframe\">\n",
       "  <thead>\n",
       "    <tr style=\"text-align: right;\">\n",
       "      <th></th>\n",
       "      <th>tran_id</th>\n",
       "      <th>cust_id</th>\n",
       "      <th>tran_amount</th>\n",
       "    </tr>\n",
       "  </thead>\n",
       "  <tbody>\n",
       "    <tr>\n",
       "      <th>count</th>\n",
       "      <td>500000.000000</td>\n",
       "      <td>500000.000000</td>\n",
       "      <td>500000.000000</td>\n",
       "    </tr>\n",
       "    <tr>\n",
       "      <th>mean</th>\n",
       "      <td>250000.500000</td>\n",
       "      <td>501.400428</td>\n",
       "      <td>3230.452602</td>\n",
       "    </tr>\n",
       "    <tr>\n",
       "      <th>std</th>\n",
       "      <td>144337.711634</td>\n",
       "      <td>288.641924</td>\n",
       "      <td>13097.561071</td>\n",
       "    </tr>\n",
       "    <tr>\n",
       "      <th>min</th>\n",
       "      <td>1.000000</td>\n",
       "      <td>1.000000</td>\n",
       "      <td>2.000000</td>\n",
       "    </tr>\n",
       "    <tr>\n",
       "      <th>25%</th>\n",
       "      <td>125000.750000</td>\n",
       "      <td>252.000000</td>\n",
       "      <td>66.000000</td>\n",
       "    </tr>\n",
       "    <tr>\n",
       "      <th>50%</th>\n",
       "      <td>250000.500000</td>\n",
       "      <td>502.000000</td>\n",
       "      <td>146.000000</td>\n",
       "    </tr>\n",
       "    <tr>\n",
       "      <th>75%</th>\n",
       "      <td>375000.250000</td>\n",
       "      <td>752.000000</td>\n",
       "      <td>413.000000</td>\n",
       "    </tr>\n",
       "    <tr>\n",
       "      <th>max</th>\n",
       "      <td>500000.000000</td>\n",
       "      <td>1000.000000</td>\n",
       "      <td>69999.000000</td>\n",
       "    </tr>\n",
       "  </tbody>\n",
       "</table>\n",
       "</div>"
      ],
      "text/plain": [
       "             tran_id        cust_id    tran_amount\n",
       "count  500000.000000  500000.000000  500000.000000\n",
       "mean   250000.500000     501.400428    3230.452602\n",
       "std    144337.711634     288.641924   13097.561071\n",
       "min         1.000000       1.000000       2.000000\n",
       "25%    125000.750000     252.000000      66.000000\n",
       "50%    250000.500000     502.000000     146.000000\n",
       "75%    375000.250000     752.000000     413.000000\n",
       "max    500000.000000    1000.000000   69999.000000"
      ]
     },
     "execution_count": 71,
     "metadata": {},
     "output_type": "execute_result"
    }
   ],
   "source": [
    "df_tran.describe()"
   ]
  },
  {
   "cell_type": "code",
   "execution_count": null,
   "id": "083e77c8-e6be-4d83-8ef3-1f095c0fbaa9",
   "metadata": {},
   "outputs": [],
   "source": []
  },
  {
   "cell_type": "code",
   "execution_count": null,
   "id": "30150533-05f7-4f36-8aed-375a8e08352d",
   "metadata": {},
   "outputs": [],
   "source": []
  },
  {
   "cell_type": "code",
   "execution_count": 76,
   "id": "b9382daf-db97-48f2-97fe-86190ba9fbf9",
   "metadata": {},
   "outputs": [
    {
     "data": {
      "text/plain": [
       "<Axes: xlabel='tran_amount', ylabel='Count'>"
      ]
     },
     "execution_count": 76,
     "metadata": {},
     "output_type": "execute_result"
    },
    {
     "data": {
      "image/png": "[encoded data removed]",
      "text/plain": [
       "<Figure size 640x480 with 1 Axes>"
      ]
     },
     "metadata": {},
     "output_type": "display_data"
    }
   ],
   "source": [
    "import seaborn as sns\n",
    "import matplotlib.pyplot as plt\n",
    "\n",
    "sns.histplot(df_tran.tran_amount, bins=30)"
   ]
  },
  {
   "cell_type": "code",
   "execution_count": null,
   "id": "bb027936-ea6b-490a-8fc0-d4055d6a66a9",
   "metadata": {},
   "outputs": [],
   "source": [
    "# so we clearly can see there are some outlier and its looking right-skewd graph "
   ]
  },
  {
   "cell_type": "code",
   "execution_count": 77,
   "id": "16520f76-48ce-4310-9842-85b019bb2ff8",
   "metadata": {},
   "outputs": [
    {
     "data": {
      "text/plain": [
       "<Axes: xlabel='tran_amount', ylabel='Count'>"
      ]
     },
     "execution_count": 77,
     "metadata": {},
     "output_type": "execute_result"
    },
    {
     "data": {
      "image/png": "[encoded data removed]",
      "text/plain": [
       "<Figure size 640x480 with 1 Axes>"
      ]
     },
     "metadata": {},
     "output_type": "display_data"
    }
   ],
   "source": [
    "sns.histplot(df_tran[df_tran.tran_amount < 10000].tran_amount, bins=30)"
   ]
  },
  {
   "cell_type": "code",
   "execution_count": null,
   "id": "fe412e5e-ccf2-4cdb-a9c3-1dc7f47527e5",
   "metadata": {},
   "outputs": [],
   "source": [
    "# so the graph is clearly right skewed means for removing the outlier in trans_amount we will use [IQR = Inner Quarentile Range]"
   ]
  },
  {
   "cell_type": "code",
   "execution_count": 80,
   "id": "c65fdc32-0ecb-440c-bda0-95c53a36bbd0",
   "metadata": {},
   "outputs": [
    {
     "data": {
      "text/plain": [
       "(-628.0, 1107.0)"
      ]
     },
     "execution_count": 80,
     "metadata": {},
     "output_type": "execute_result"
    }
   ],
   "source": [
    "Q1, Q3 = df_tran['tran_amount'].quantile([0.25, 0.75])\n",
    "\n",
    "IQR = Q3 - Q1\n",
    "\n",
    "lower = Q1 - 2*IQR  # althrough we use 1.5* but it becomes very strict so here we are using 2*\n",
    "upper = Q3 + 2*IQR\n",
    "\n",
    "lower, upper"
   ]
  },
  {
   "cell_type": "code",
   "execution_count": 82,
   "id": "7262c0c9-0210-4487-9e1d-8af487e4da4e",
   "metadata": {},
   "outputs": [
    {
     "data": {
      "text/plain": [
       "(25000, 7)"
      ]
     },
     "execution_count": 82,
     "metadata": {},
     "output_type": "execute_result"
    }
   ],
   "source": [
    "df_tran_outlier_2 = df_tran[df_tran.tran_amount >= upper]\n",
    "df_tran_outlier_2.shape"
   ]
  },
  {
   "cell_type": "code",
   "execution_count": 83,
   "id": "237b830f-3517-4589-a03e-d7ee4ced2df4",
   "metadata": {},
   "outputs": [
    {
     "data": {
      "text/html": [
       "<div>\n",
       "<style scoped>\n",
       "    .dataframe tbody tr th:only-of-type {\n",
       "        vertical-align: middle;\n",
       "    }\n",
       "\n",
       "    .dataframe tbody tr th {\n",
       "        vertical-align: top;\n",
       "    }\n",
       "\n",
       "    .dataframe thead th {\n",
       "        text-align: right;\n",
       "    }\n",
       "</style>\n",
       "<table border=\"1\" class=\"dataframe\">\n",
       "  <thead>\n",
       "    <tr style=\"text-align: right;\">\n",
       "      <th></th>\n",
       "      <th>tran_id</th>\n",
       "      <th>cust_id</th>\n",
       "      <th>tran_date</th>\n",
       "      <th>tran_amount</th>\n",
       "      <th>platform</th>\n",
       "      <th>product_category</th>\n",
       "      <th>payment_type</th>\n",
       "    </tr>\n",
       "  </thead>\n",
       "  <tbody>\n",
       "    <tr>\n",
       "      <th>26</th>\n",
       "      <td>27</td>\n",
       "      <td>380</td>\n",
       "      <td>2023-01-01</td>\n",
       "      <td>61963</td>\n",
       "      <td>Shopify</td>\n",
       "      <td>Beauty &amp; Personal Care</td>\n",
       "      <td>Credit Card</td>\n",
       "    </tr>\n",
       "    <tr>\n",
       "      <th>49</th>\n",
       "      <td>50</td>\n",
       "      <td>287</td>\n",
       "      <td>2023-01-01</td>\n",
       "      <td>57869</td>\n",
       "      <td>Amazon</td>\n",
       "      <td>Toys &amp; Games</td>\n",
       "      <td>Gpay</td>\n",
       "    </tr>\n",
       "    <tr>\n",
       "      <th>94</th>\n",
       "      <td>95</td>\n",
       "      <td>770</td>\n",
       "      <td>2023-01-01</td>\n",
       "      <td>52881</td>\n",
       "      <td>Ebay</td>\n",
       "      <td>Kitchen Appliances</td>\n",
       "      <td>Credit Card</td>\n",
       "    </tr>\n",
       "    <tr>\n",
       "      <th>104</th>\n",
       "      <td>105</td>\n",
       "      <td>549</td>\n",
       "      <td>2023-01-01</td>\n",
       "      <td>58574</td>\n",
       "      <td>Flipkart</td>\n",
       "      <td>Fashion &amp; Apparel</td>\n",
       "      <td>Gpay</td>\n",
       "    </tr>\n",
       "    <tr>\n",
       "      <th>113</th>\n",
       "      <td>114</td>\n",
       "      <td>790</td>\n",
       "      <td>2023-01-01</td>\n",
       "      <td>51669</td>\n",
       "      <td>Shopify</td>\n",
       "      <td>Kitchen Appliances</td>\n",
       "      <td>Credit Card</td>\n",
       "    </tr>\n",
       "  </tbody>\n",
       "</table>\n",
       "</div>"
      ],
      "text/plain": [
       "     tran_id  cust_id   tran_date  tran_amount  platform  \\\n",
       "26        27      380  2023-01-01        61963   Shopify   \n",
       "49        50      287  2023-01-01        57869    Amazon   \n",
       "94        95      770  2023-01-01        52881      Ebay   \n",
       "104      105      549  2023-01-01        58574  Flipkart   \n",
       "113      114      790  2023-01-01        51669   Shopify   \n",
       "\n",
       "           product_category payment_type  \n",
       "26   Beauty & Personal Care  Credit Card  \n",
       "49             Toys & Games         Gpay  \n",
       "94       Kitchen Appliances  Credit Card  \n",
       "104       Fashion & Apparel         Gpay  \n",
       "113      Kitchen Appliances  Credit Card  "
      ]
     },
     "execution_count": 83,
     "metadata": {},
     "output_type": "execute_result"
    }
   ],
   "source": [
    "df_tran_outlier_2.head()"
   ]
  },
  {
   "cell_type": "code",
   "execution_count": 85,
   "id": "87d4849f-4a54-4ec7-a06a-8bd522e27ba6",
   "metadata": {},
   "outputs": [
    {
     "data": {
      "text/plain": [
       "(475000, 7)"
      ]
     },
     "execution_count": 85,
     "metadata": {},
     "output_type": "execute_result"
    }
   ],
   "source": [
    "df_tran_new = df_tran[df_tran.tran_amount < upper]\n",
    "df_tran_new.shape"
   ]
  },
  {
   "cell_type": "code",
   "execution_count": 86,
   "id": "f5362d6e-ac9e-4fe1-a04c-73b80be1e72d",
   "metadata": {},
   "outputs": [
    {
     "data": {
      "text/html": [
       "<div>\n",
       "<style scoped>\n",
       "    .dataframe tbody tr th:only-of-type {\n",
       "        vertical-align: middle;\n",
       "    }\n",
       "\n",
       "    .dataframe tbody tr th {\n",
       "        vertical-align: top;\n",
       "    }\n",
       "\n",
       "    .dataframe thead th {\n",
       "        text-align: right;\n",
       "    }\n",
       "</style>\n",
       "<table border=\"1\" class=\"dataframe\">\n",
       "  <thead>\n",
       "    <tr style=\"text-align: right;\">\n",
       "      <th></th>\n",
       "      <th>tran_id</th>\n",
       "      <th>cust_id</th>\n",
       "      <th>tran_date</th>\n",
       "      <th>tran_amount</th>\n",
       "      <th>platform</th>\n",
       "      <th>product_category</th>\n",
       "      <th>payment_type</th>\n",
       "    </tr>\n",
       "  </thead>\n",
       "  <tbody>\n",
       "    <tr>\n",
       "      <th>0</th>\n",
       "      <td>1</td>\n",
       "      <td>705</td>\n",
       "      <td>2023-01-01</td>\n",
       "      <td>63</td>\n",
       "      <td>Flipkart</td>\n",
       "      <td>Electronics</td>\n",
       "      <td>Phonepe</td>\n",
       "    </tr>\n",
       "    <tr>\n",
       "      <th>1</th>\n",
       "      <td>2</td>\n",
       "      <td>385</td>\n",
       "      <td>2023-01-01</td>\n",
       "      <td>99</td>\n",
       "      <td>Alibaba</td>\n",
       "      <td>Fashion &amp; Apparel</td>\n",
       "      <td>Credit Card</td>\n",
       "    </tr>\n",
       "    <tr>\n",
       "      <th>2</th>\n",
       "      <td>3</td>\n",
       "      <td>924</td>\n",
       "      <td>2023-01-01</td>\n",
       "      <td>471</td>\n",
       "      <td>Shopify</td>\n",
       "      <td>Sports</td>\n",
       "      <td>Phonepe</td>\n",
       "    </tr>\n",
       "    <tr>\n",
       "      <th>3</th>\n",
       "      <td>4</td>\n",
       "      <td>797</td>\n",
       "      <td>2023-01-01</td>\n",
       "      <td>33</td>\n",
       "      <td>Shopify</td>\n",
       "      <td>Fashion &amp; Apparel</td>\n",
       "      <td>Gpay</td>\n",
       "    </tr>\n",
       "    <tr>\n",
       "      <th>4</th>\n",
       "      <td>5</td>\n",
       "      <td>482</td>\n",
       "      <td>2023-01-01</td>\n",
       "      <td>68</td>\n",
       "      <td>Amazon</td>\n",
       "      <td>Fashion &amp; Apparel</td>\n",
       "      <td>Net Banking</td>\n",
       "    </tr>\n",
       "  </tbody>\n",
       "</table>\n",
       "</div>"
      ],
      "text/plain": [
       "   tran_id  cust_id   tran_date  tran_amount  platform   product_category  \\\n",
       "0        1      705  2023-01-01           63  Flipkart        Electronics   \n",
       "1        2      385  2023-01-01           99   Alibaba  Fashion & Apparel   \n",
       "2        3      924  2023-01-01          471   Shopify             Sports   \n",
       "3        4      797  2023-01-01           33   Shopify  Fashion & Apparel   \n",
       "4        5      482  2023-01-01           68    Amazon  Fashion & Apparel   \n",
       "\n",
       "  payment_type  \n",
       "0      Phonepe  \n",
       "1  Credit Card  \n",
       "2      Phonepe  \n",
       "3         Gpay  \n",
       "4  Net Banking  "
      ]
     },
     "execution_count": 86,
     "metadata": {},
     "output_type": "execute_result"
    }
   ],
   "source": [
    "df_tran_new.head()"
   ]
  },
  {
   "cell_type": "code",
   "execution_count": 97,
   "id": "34dac984-5641-476a-b433-deec52f93179",
   "metadata": {},
   "outputs": [
    {
     "data": {
      "text/plain": [
       "product_category\n",
       "Beauty & Personal Care     92.167205\n",
       "Books                      29.553515\n",
       "Electronics               510.172685\n",
       "Fashion & Apparel          64.553463\n",
       "Garden & Outdoor          125.630277\n",
       "Home Decor                302.487561\n",
       "Kitchen Appliances        176.773288\n",
       "Sports                    269.181631\n",
       "Toys & Games               50.333298\n",
       "Name: tran_amount, dtype: float64"
      ]
     },
     "execution_count": 97,
     "metadata": {},
     "output_type": "execute_result"
    }
   ],
   "source": [
    "tran_product_category_wise_mean = df_tran_new.groupby(\"product_category\")[\"tran_amount\"].mean()\n",
    "tran_product_category_wise_mean "
   ]
  },
  {
   "cell_type": "code",
   "execution_count": 98,
   "id": "fd08d50c-233c-4fd5-9a0e-6d730001a068",
   "metadata": {},
   "outputs": [
    {
     "data": {
      "text/plain": [
       "26         92.167205\n",
       "49         50.333298\n",
       "94        176.773288\n",
       "104        64.553463\n",
       "113       176.773288\n",
       "             ...    \n",
       "499742     64.553463\n",
       "499888     64.553463\n",
       "499900    269.181631\n",
       "499966    269.181631\n",
       "499996     64.553463\n",
       "Name: tran_amount, Length: 25000, dtype: float64"
      ]
     },
     "execution_count": 98,
     "metadata": {},
     "output_type": "execute_result"
    }
   ],
   "source": [
    "df_tran.loc[df_tran_outlier_2.index, 'tran_amount']"
   ]
  },
  {
   "cell_type": "code",
   "execution_count": 99,
   "id": "ab02bd1a-6feb-4024-a806-e7040feab1f9",
   "metadata": {},
   "outputs": [],
   "source": [
    "df_tran.loc[df_tran_outlier_2.index, 'tran_amount'] = df_tran_outlier_2['product_category'].map(tran_product_category_wise_mean)"
   ]
  },
  {
   "cell_type": "code",
   "execution_count": 100,
   "id": "5dcd799a-3b79-4717-9710-597783f63da8",
   "metadata": {},
   "outputs": [
    {
     "data": {
      "text/html": [
       "<div>\n",
       "<style scoped>\n",
       "    .dataframe tbody tr th:only-of-type {\n",
       "        vertical-align: middle;\n",
       "    }\n",
       "\n",
       "    .dataframe tbody tr th {\n",
       "        vertical-align: top;\n",
       "    }\n",
       "\n",
       "    .dataframe thead th {\n",
       "        text-align: right;\n",
       "    }\n",
       "</style>\n",
       "<table border=\"1\" class=\"dataframe\">\n",
       "  <thead>\n",
       "    <tr style=\"text-align: right;\">\n",
       "      <th></th>\n",
       "      <th>tran_id</th>\n",
       "      <th>cust_id</th>\n",
       "      <th>tran_date</th>\n",
       "      <th>tran_amount</th>\n",
       "      <th>platform</th>\n",
       "      <th>product_category</th>\n",
       "      <th>payment_type</th>\n",
       "    </tr>\n",
       "  </thead>\n",
       "  <tbody>\n",
       "    <tr>\n",
       "      <th>26</th>\n",
       "      <td>27</td>\n",
       "      <td>380</td>\n",
       "      <td>2023-01-01</td>\n",
       "      <td>92.167205</td>\n",
       "      <td>Shopify</td>\n",
       "      <td>Beauty &amp; Personal Care</td>\n",
       "      <td>Credit Card</td>\n",
       "    </tr>\n",
       "    <tr>\n",
       "      <th>49</th>\n",
       "      <td>50</td>\n",
       "      <td>287</td>\n",
       "      <td>2023-01-01</td>\n",
       "      <td>50.333298</td>\n",
       "      <td>Amazon</td>\n",
       "      <td>Toys &amp; Games</td>\n",
       "      <td>Gpay</td>\n",
       "    </tr>\n",
       "    <tr>\n",
       "      <th>94</th>\n",
       "      <td>95</td>\n",
       "      <td>770</td>\n",
       "      <td>2023-01-01</td>\n",
       "      <td>176.773288</td>\n",
       "      <td>Ebay</td>\n",
       "      <td>Kitchen Appliances</td>\n",
       "      <td>Credit Card</td>\n",
       "    </tr>\n",
       "    <tr>\n",
       "      <th>104</th>\n",
       "      <td>105</td>\n",
       "      <td>549</td>\n",
       "      <td>2023-01-01</td>\n",
       "      <td>64.553463</td>\n",
       "      <td>Flipkart</td>\n",
       "      <td>Fashion &amp; Apparel</td>\n",
       "      <td>Gpay</td>\n",
       "    </tr>\n",
       "    <tr>\n",
       "      <th>113</th>\n",
       "      <td>114</td>\n",
       "      <td>790</td>\n",
       "      <td>2023-01-01</td>\n",
       "      <td>176.773288</td>\n",
       "      <td>Shopify</td>\n",
       "      <td>Kitchen Appliances</td>\n",
       "      <td>Credit Card</td>\n",
       "    </tr>\n",
       "    <tr>\n",
       "      <th>...</th>\n",
       "      <td>...</td>\n",
       "      <td>...</td>\n",
       "      <td>...</td>\n",
       "      <td>...</td>\n",
       "      <td>...</td>\n",
       "      <td>...</td>\n",
       "      <td>...</td>\n",
       "    </tr>\n",
       "    <tr>\n",
       "      <th>499742</th>\n",
       "      <td>499743</td>\n",
       "      <td>868</td>\n",
       "      <td>2023-09-05</td>\n",
       "      <td>64.553463</td>\n",
       "      <td>Meesho</td>\n",
       "      <td>Fashion &amp; Apparel</td>\n",
       "      <td>Gpay</td>\n",
       "    </tr>\n",
       "    <tr>\n",
       "      <th>499888</th>\n",
       "      <td>499889</td>\n",
       "      <td>614</td>\n",
       "      <td>2023-09-05</td>\n",
       "      <td>64.553463</td>\n",
       "      <td>Meesho</td>\n",
       "      <td>Fashion &amp; Apparel</td>\n",
       "      <td>Net Banking</td>\n",
       "    </tr>\n",
       "    <tr>\n",
       "      <th>499900</th>\n",
       "      <td>499901</td>\n",
       "      <td>811</td>\n",
       "      <td>2023-09-05</td>\n",
       "      <td>269.181631</td>\n",
       "      <td>Flipkart</td>\n",
       "      <td>Sports</td>\n",
       "      <td>Debit Card</td>\n",
       "    </tr>\n",
       "    <tr>\n",
       "      <th>499966</th>\n",
       "      <td>499967</td>\n",
       "      <td>662</td>\n",
       "      <td>2023-09-05</td>\n",
       "      <td>269.181631</td>\n",
       "      <td>Meesho</td>\n",
       "      <td>Sports</td>\n",
       "      <td>Gpay</td>\n",
       "    </tr>\n",
       "    <tr>\n",
       "      <th>499996</th>\n",
       "      <td>499997</td>\n",
       "      <td>569</td>\n",
       "      <td>2023-09-05</td>\n",
       "      <td>64.553463</td>\n",
       "      <td>Meesho</td>\n",
       "      <td>Fashion &amp; Apparel</td>\n",
       "      <td>Net Banking</td>\n",
       "    </tr>\n",
       "  </tbody>\n",
       "</table>\n",
       "<p>25000 rows × 7 columns</p>\n",
       "</div>"
      ],
      "text/plain": [
       "        tran_id  cust_id   tran_date  tran_amount  platform  \\\n",
       "26           27      380  2023-01-01    92.167205   Shopify   \n",
       "49           50      287  2023-01-01    50.333298    Amazon   \n",
       "94           95      770  2023-01-01   176.773288      Ebay   \n",
       "104         105      549  2023-01-01    64.553463  Flipkart   \n",
       "113         114      790  2023-01-01   176.773288   Shopify   \n",
       "...         ...      ...         ...          ...       ...   \n",
       "499742   499743      868  2023-09-05    64.553463    Meesho   \n",
       "499888   499889      614  2023-09-05    64.553463    Meesho   \n",
       "499900   499901      811  2023-09-05   269.181631  Flipkart   \n",
       "499966   499967      662  2023-09-05   269.181631    Meesho   \n",
       "499996   499997      569  2023-09-05    64.553463    Meesho   \n",
       "\n",
       "              product_category payment_type  \n",
       "26      Beauty & Personal Care  Credit Card  \n",
       "49                Toys & Games         Gpay  \n",
       "94          Kitchen Appliances  Credit Card  \n",
       "104          Fashion & Apparel         Gpay  \n",
       "113         Kitchen Appliances  Credit Card  \n",
       "...                        ...          ...  \n",
       "499742       Fashion & Apparel         Gpay  \n",
       "499888       Fashion & Apparel  Net Banking  \n",
       "499900                  Sports   Debit Card  \n",
       "499966                  Sports         Gpay  \n",
       "499996       Fashion & Apparel  Net Banking  \n",
       "\n",
       "[25000 rows x 7 columns]"
      ]
     },
     "execution_count": 100,
     "metadata": {},
     "output_type": "execute_result"
    }
   ],
   "source": [
    "df_tran.loc[df_tran_outlier_2.index] "
   ]
  },
  {
   "cell_type": "code",
   "execution_count": 102,
   "id": "0d13a7db-c551-4873-9963-a714c7c8105a",
   "metadata": {},
   "outputs": [
    {
     "data": {
      "text/plain": [
       "<Axes: xlabel='tran_amount', ylabel='Count'>"
      ]
     },
     "execution_count": 102,
     "metadata": {},
     "output_type": "execute_result"
    },
    {
     "data": {
      "image/png": "[encoded data removed]",
      "text/plain": [
       "<Figure size 640x480 with 1 Axes>"
      ]
     },
     "metadata": {},
     "output_type": "display_data"
    }
   ],
   "source": [
    "sns.histplot(df_tran.tran_amount, kde=True, bins=20)"
   ]
  },
  {
   "cell_type": "markdown",
   "id": "54a46c00-5e55-45f7-9bd8-e5436904564f",
   "metadata": {},
   "source": [
    "## Distribution of payment_type Methods:"
   ]
  },
  {
   "cell_type": "code",
   "execution_count": 104,
   "id": "d87f2b3d-f670-4b98-89d5-41a9118f0460",
   "metadata": {},
   "outputs": [
    {
     "data": {
      "text/plain": [
       "payment_type\n",
       "Phonepe        144228\n",
       "Credit Card    139778\n",
       "Gpay           109218\n",
       "Debit Card      59500\n",
       "Net Banking     43223\n",
       "Cash             4053\n",
       "Name: count, dtype: int64"
      ]
     },
     "execution_count": 104,
     "metadata": {},
     "output_type": "execute_result"
    }
   ],
   "source": [
    "df_tran.payment_type.value_counts()"
   ]
  },
  {
   "cell_type": "code",
   "execution_count": 105,
   "id": "7f888326-d354-46d1-9f1a-a31af0d5bf83",
   "metadata": {},
   "outputs": [
    {
     "data": {
      "text/plain": [
       "<Axes: xlabel='count', ylabel='payment_type'>"
      ]
     },
     "execution_count": 105,
     "metadata": {},
     "output_type": "execute_result"
    },
    {
     "data": {
      "image/png": "[encoded data removed]",
      "text/plain": [
       "<Figure size 640x480 with 1 Axes>"
      ]
     },
     "metadata": {},
     "output_type": "display_data"
    }
   ],
   "source": [
    "sns.countplot(df_tran.payment_type)"
   ]
  },
  {
   "cell_type": "code",
   "execution_count": 107,
   "id": "83e32038-5a52-4e97-b029-3f34b0b7b1c4",
   "metadata": {
    "scrolled": true
   },
   "outputs": [
    {
     "data": {
      "text/plain": [
       "<Axes: xlabel='payment_type', ylabel='count'>"
      ]
     },
     "execution_count": 107,
     "metadata": {},
     "output_type": "execute_result"
    },
    {
     "data": {
      "image/png": "[encoded data removed]",
      "text/plain": [
       "<Figure size 640x480 with 1 Axes>"
      ]
     },
     "metadata": {},
     "output_type": "display_data"
    }
   ],
   "source": [
    "sns.countplot(x=df_tran.payment_type)"
   ]
  },
  {
   "cell_type": "code",
   "execution_count": 108,
   "id": "eb989a44-072a-48d7-8b8d-bfcaac5a62e2",
   "metadata": {},
   "outputs": [
    {
     "data": {
      "text/plain": [
       "<Axes: xlabel='payment_type', ylabel='percent'>"
      ]
     },
     "execution_count": 108,
     "metadata": {},
     "output_type": "execute_result"
    },
    {
     "data": {
      "image/png": "[encoded data removed]",
      "text/plain": [
       "<Figure size 640x480 with 1 Axes>"
      ]
     },
     "metadata": {},
     "output_type": "display_data"
    }
   ],
   "source": [
    "sns.countplot(x=df_tran.payment_type, stat='percent')"
   ]
  },
  {
   "cell_type": "markdown",
   "id": "55f630e6-1065-4ed6-8d4e-94d1fa4129cc",
   "metadata": {},
   "source": [
    "### Now finding which age-gruop using what kind of payment_method"
   ]
  },
  {
   "cell_type": "code",
   "execution_count": 117,
   "id": "b1366b16-f1eb-42d9-8827-e4bd50374617",
   "metadata": {},
   "outputs": [
    {
     "data": {
      "text/html": [
       "<div>\n",
       "<style scoped>\n",
       "    .dataframe tbody tr th:only-of-type {\n",
       "        vertical-align: middle;\n",
       "    }\n",
       "\n",
       "    .dataframe tbody tr th {\n",
       "        vertical-align: top;\n",
       "    }\n",
       "\n",
       "    .dataframe thead th {\n",
       "        text-align: right;\n",
       "    }\n",
       "</style>\n",
       "<table border=\"1\" class=\"dataframe\">\n",
       "  <thead>\n",
       "    <tr style=\"text-align: right;\">\n",
       "      <th></th>\n",
       "      <th>tran_id</th>\n",
       "      <th>cust_id</th>\n",
       "      <th>tran_date</th>\n",
       "      <th>tran_amount</th>\n",
       "      <th>platform</th>\n",
       "      <th>product_category</th>\n",
       "      <th>payment_type</th>\n",
       "      <th>name</th>\n",
       "      <th>gender</th>\n",
       "      <th>age</th>\n",
       "      <th>location</th>\n",
       "      <th>occupation</th>\n",
       "      <th>annual_income</th>\n",
       "      <th>marital_status</th>\n",
       "      <th>age-group</th>\n",
       "      <th>credit_score</th>\n",
       "      <th>credit_utilisation</th>\n",
       "      <th>outstanding_debt</th>\n",
       "      <th>credit_inquiries_last_6_months</th>\n",
       "      <th>credit_limit</th>\n",
       "    </tr>\n",
       "  </thead>\n",
       "  <tbody>\n",
       "    <tr>\n",
       "      <th>0</th>\n",
       "      <td>1</td>\n",
       "      <td>705</td>\n",
       "      <td>2023-01-01</td>\n",
       "      <td>63</td>\n",
       "      <td>Flipkart</td>\n",
       "      <td>Electronics</td>\n",
       "      <td>Phonepe</td>\n",
       "      <td>Kriti Jain</td>\n",
       "      <td>Female</td>\n",
       "      <td>22</td>\n",
       "      <td>City</td>\n",
       "      <td>Fullstack Developer</td>\n",
       "      <td>47403.0</td>\n",
       "      <td>Married</td>\n",
       "      <td>18-25</td>\n",
       "      <td>533</td>\n",
       "      <td>0.289353</td>\n",
       "      <td>189.0</td>\n",
       "      <td>2.0</td>\n",
       "      <td>1000.0</td>\n",
       "    </tr>\n",
       "    <tr>\n",
       "      <th>1</th>\n",
       "      <td>2</td>\n",
       "      <td>385</td>\n",
       "      <td>2023-01-01</td>\n",
       "      <td>99</td>\n",
       "      <td>Alibaba</td>\n",
       "      <td>Fashion &amp; Apparel</td>\n",
       "      <td>Credit Card</td>\n",
       "      <td>Pranav Singhal</td>\n",
       "      <td>Male</td>\n",
       "      <td>35</td>\n",
       "      <td>City</td>\n",
       "      <td>Data Scientist</td>\n",
       "      <td>137381.0</td>\n",
       "      <td>Single</td>\n",
       "      <td>26-48</td>\n",
       "      <td>666</td>\n",
       "      <td>0.789690</td>\n",
       "      <td>13470.0</td>\n",
       "      <td>4.0</td>\n",
       "      <td>20000.0</td>\n",
       "    </tr>\n",
       "    <tr>\n",
       "      <th>2</th>\n",
       "      <td>3</td>\n",
       "      <td>924</td>\n",
       "      <td>2023-01-01</td>\n",
       "      <td>471</td>\n",
       "      <td>Shopify</td>\n",
       "      <td>Sports</td>\n",
       "      <td>Phonepe</td>\n",
       "      <td>Kunal Patel</td>\n",
       "      <td>Male</td>\n",
       "      <td>110</td>\n",
       "      <td>City</td>\n",
       "      <td>Freelancer</td>\n",
       "      <td>51629.0</td>\n",
       "      <td>Married</td>\n",
       "      <td>NaN</td>\n",
       "      <td>600</td>\n",
       "      <td>0.509649</td>\n",
       "      <td>551.0</td>\n",
       "      <td>0.0</td>\n",
       "      <td>1250.0</td>\n",
       "    </tr>\n",
       "    <tr>\n",
       "      <th>3</th>\n",
       "      <td>4</td>\n",
       "      <td>797</td>\n",
       "      <td>2023-01-01</td>\n",
       "      <td>33</td>\n",
       "      <td>Shopify</td>\n",
       "      <td>Fashion &amp; Apparel</td>\n",
       "      <td>Gpay</td>\n",
       "      <td>Ishan Bali</td>\n",
       "      <td>Male</td>\n",
       "      <td>20</td>\n",
       "      <td>City</td>\n",
       "      <td>Fullstack Developer</td>\n",
       "      <td>51602.0</td>\n",
       "      <td>Married</td>\n",
       "      <td>18-25</td>\n",
       "      <td>606</td>\n",
       "      <td>0.676312</td>\n",
       "      <td>560.0</td>\n",
       "      <td>0.0</td>\n",
       "      <td>1500.0</td>\n",
       "    </tr>\n",
       "    <tr>\n",
       "      <th>4</th>\n",
       "      <td>5</td>\n",
       "      <td>482</td>\n",
       "      <td>2023-01-01</td>\n",
       "      <td>68</td>\n",
       "      <td>Amazon</td>\n",
       "      <td>Fashion &amp; Apparel</td>\n",
       "      <td>Net Banking</td>\n",
       "      <td>Advait Mistry</td>\n",
       "      <td>Male</td>\n",
       "      <td>22</td>\n",
       "      <td>City</td>\n",
       "      <td>Freelancer</td>\n",
       "      <td>43783.0</td>\n",
       "      <td>Married</td>\n",
       "      <td>18-25</td>\n",
       "      <td>394</td>\n",
       "      <td>0.785495</td>\n",
       "      <td>266.0</td>\n",
       "      <td>1.0</td>\n",
       "      <td>500.0</td>\n",
       "    </tr>\n",
       "  </tbody>\n",
       "</table>\n",
       "</div>"
      ],
      "text/plain": [
       "   tran_id  cust_id   tran_date  tran_amount  platform   product_category  \\\n",
       "0        1      705  2023-01-01           63  Flipkart        Electronics   \n",
       "1        2      385  2023-01-01           99   Alibaba  Fashion & Apparel   \n",
       "2        3      924  2023-01-01          471   Shopify             Sports   \n",
       "3        4      797  2023-01-01           33   Shopify  Fashion & Apparel   \n",
       "4        5      482  2023-01-01           68    Amazon  Fashion & Apparel   \n",
       "\n",
       "  payment_type            name  gender  age location           occupation  \\\n",
       "0      Phonepe      Kriti Jain  Female   22     City  Fullstack Developer   \n",
       "1  Credit Card  Pranav Singhal    Male   35     City       Data Scientist   \n",
       "2      Phonepe     Kunal Patel    Male  110     City           Freelancer   \n",
       "3         Gpay      Ishan Bali    Male   20     City  Fullstack Developer   \n",
       "4  Net Banking   Advait Mistry    Male   22     City           Freelancer   \n",
       "\n",
       "   annual_income marital_status age-group  credit_score  credit_utilisation  \\\n",
       "0        47403.0        Married     18-25           533            0.289353   \n",
       "1       137381.0         Single     26-48           666            0.789690   \n",
       "2        51629.0        Married       NaN           600            0.509649   \n",
       "3        51602.0        Married     18-25           606            0.676312   \n",
       "4        43783.0        Married     18-25           394            0.785495   \n",
       "\n",
       "   outstanding_debt  credit_inquiries_last_6_months  credit_limit  \n",
       "0             189.0                             2.0        1000.0  \n",
       "1           13470.0                             4.0       20000.0  \n",
       "2             551.0                             0.0        1250.0  \n",
       "3             560.0                             0.0        1500.0  \n",
       "4             266.0                             1.0         500.0  "
      ]
     },
     "execution_count": 117,
     "metadata": {},
     "output_type": "execute_result"
    }
   ],
   "source": [
    "df_customer = pd.read_csv('datasets/customers.csv')\n",
    "df_credit = pd.read_csv('datasets/credit_profiles.csv')\n",
    "df_trans = pd.read_csv('datasets/transactions.csv') \n",
    "\n",
    "bin_edges = [17, 25, 48, 65]\n",
    "bin_labels = ['18-25', '26-48', '49-65']\n",
    "\n",
    "# Now we are using the cut function of pandas to make the group\n",
    "df_customer['age-group'] = pd.cut(df_customer['age'], bins = bin_edges, labels = bin_labels)\n",
    "\n",
    "# First, merge df_trans and df_customer on 'cust_id'\n",
    "df_merge1 = pd.merge(df_trans, df_customer, on=\"cust_id\", how=\"inner\")\n",
    "\n",
    "# Then, merge the result with df_credit on 'cust_id'\n",
    "df_merge = pd.merge(df_merge1, df_credit, on=\"cust_id\", how=\"inner\")\n",
    "\n",
    "# Display the merged DataFrame\n",
    "df_merge.head()"
   ]
  },
  {
   "cell_type": "code",
   "execution_count": null,
   "id": "9a153404-41fd-4fd1-b62e-8b5377cd1579",
   "metadata": {},
   "outputs": [],
   "source": []
  },
  {
   "cell_type": "code",
   "execution_count": 136,
   "id": "67c52952-4844-4bd3-8db9-5c54a89ec3bf",
   "metadata": {},
   "outputs": [
    {
     "data": {
      "image/png": "[encoded data removed]",
      "text/plain": [
       "<Figure size 500x400 with 1 Axes>"
      ]
     },
     "metadata": {},
     "output_type": "display_data"
    }
   ],
   "source": [
    "plt.figure(figsize=(5, 4))\n",
    "sns.countplot(x='age-group', hue='payment_type', data=df_merge, palette='Set3')\n",
    "plt.title('Distribution of Payment types across Age groups')\n",
    "plt.xlabel('Age Group')\n",
    "plt.ylabel('Count')\n",
    "plt.xticks(rotation=0)\n",
    "plt.legend(title='Payment Type', loc='upper right')\n",
    "\n",
    "plt.show()"
   ]
  },
  {
   "cell_type": "code",
   "execution_count": null,
   "id": "9d661ac8-bc97-419b-865d-a280a0687d98",
   "metadata": {},
   "outputs": [],
   "source": []
  },
  {
   "cell_type": "code",
   "execution_count": 130,
   "id": "eed85cee-4d6b-41da-8266-c2506a6890a6",
   "metadata": {},
   "outputs": [
    {
     "data": {
      "text/plain": [
       "<matplotlib.legend.Legend at 0x32d699280>"
      ]
     },
     "execution_count": 130,
     "metadata": {},
     "output_type": "execute_result"
    },
    {
     "data": {
      "image/png": "[encoded data removed]",
      "text/plain": [
       "<Figure size 1200x400 with 2 Axes>"
      ]
     },
     "metadata": {},
     "output_type": "display_data"
    }
   ],
   "source": [
    "fig, (ax1, ax2) = plt.subplots(1,2,figsize = (12,4))\n",
    "\n",
    "sns.countplot(x='age-group', hue='product_category', data = df_merge, ax=ax1)\n",
    "ax1.set_title(\"Product Category Count By Age Group\")\n",
    "ax1.set_xlabel(\"Age Group\")\n",
    "ax1.set_ylabel(\"Count\")\n",
    "\n",
    "ax1.legend(title = \"Product-Category\", loc= \"upper right\")\n",
    "\n",
    "\n",
    "sns.countplot(x='age-group', hue='platform', data = df_merge, ax=ax2)\n",
    "ax2.set_title(\"Platform Count By Age Group\")\n",
    "ax2.set_xlabel(\"Age Group\")\n",
    "ax2.set_ylabel(\"Count\")\n",
    "\n",
    "ax2.legend(title = \"Platform\", loc= \"upper right\")"
   ]
  },
  {
   "cell_type": "code",
   "execution_count": 134,
   "id": "2135f96e-b9d5-4c82-8464-293c7afaae52",
   "metadata": {},
   "outputs": [
    {
     "name": "stderr",
     "output_type": "stream",
     "text": [
      "/var/folders/g6/tsh89k751tn8lxp3pdk7rjjw0000gn/T/ipykernel_5635/84721456.py:2: FutureWarning: The default of observed=False is deprecated and will be changed to True in a future version of pandas. Pass observed=False to retain current behavior or observed=True to adopt the future default and silence this warning.\n",
      "  age_group_metrics = df_merge.groupby('age-group')[['annual_income', 'credit_limit', 'credit_score']].mean().reset_index()\n"
     ]
    },
    {
     "data": {
      "text/html": [
       "<div>\n",
       "<style scoped>\n",
       "    .dataframe tbody tr th:only-of-type {\n",
       "        vertical-align: middle;\n",
       "    }\n",
       "\n",
       "    .dataframe tbody tr th {\n",
       "        vertical-align: top;\n",
       "    }\n",
       "\n",
       "    .dataframe thead th {\n",
       "        text-align: right;\n",
       "    }\n",
       "</style>\n",
       "<table border=\"1\" class=\"dataframe\">\n",
       "  <thead>\n",
       "    <tr style=\"text-align: right;\">\n",
       "      <th></th>\n",
       "      <th>age-group</th>\n",
       "      <th>annual_income</th>\n",
       "      <th>credit_limit</th>\n",
       "      <th>credit_score</th>\n",
       "    </tr>\n",
       "  </thead>\n",
       "  <tbody>\n",
       "    <tr>\n",
       "      <th>0</th>\n",
       "      <td>18-25</td>\n",
       "      <td>34704.133379</td>\n",
       "      <td>881.879313</td>\n",
       "      <td>481.812365</td>\n",
       "    </tr>\n",
       "    <tr>\n",
       "      <th>1</th>\n",
       "      <td>26-48</td>\n",
       "      <td>146981.052961</td>\n",
       "      <td>19902.467934</td>\n",
       "      <td>597.776121</td>\n",
       "    </tr>\n",
       "    <tr>\n",
       "      <th>2</th>\n",
       "      <td>49-65</td>\n",
       "      <td>257924.197445</td>\n",
       "      <td>41535.716747</td>\n",
       "      <td>701.462842</td>\n",
       "    </tr>\n",
       "  </tbody>\n",
       "</table>\n",
       "</div>"
      ],
      "text/plain": [
       "  age-group  annual_income  credit_limit  credit_score\n",
       "0     18-25   34704.133379    881.879313    481.812365\n",
       "1     26-48  146981.052961  19902.467934    597.776121\n",
       "2     49-65  257924.197445  41535.716747    701.462842"
      ]
     },
     "execution_count": 134,
     "metadata": {},
     "output_type": "execute_result"
    }
   ],
   "source": [
    "# Group the data by age group and calculate the average credit_limit and credit_score\n",
    "age_group_metrics = df_merge.groupby('age-group')[['annual_income', 'credit_limit', 'credit_score']].mean().reset_index()\n",
    "age_group_metrics"
   ]
  },
  {
   "cell_type": "code",
   "execution_count": 135,
   "id": "697c1660-896c-46be-ad7e-9beedc881177",
   "metadata": {},
   "outputs": [
    {
     "name": "stderr",
     "output_type": "stream",
     "text": [
      "/var/folders/g6/tsh89k751tn8lxp3pdk7rjjw0000gn/T/ipykernel_5635/2038737889.py:5: FutureWarning: \n",
      "\n",
      "Passing `palette` without assigning `hue` is deprecated and will be removed in v0.14.0. Assign the `x` variable to `hue` and set `legend=False` for the same effect.\n",
      "\n",
      "  sns.barplot(x='age-group', y='annual_income', data=age_group_metrics, palette='tab10', ax=ax1)\n",
      "/var/folders/g6/tsh89k751tn8lxp3pdk7rjjw0000gn/T/ipykernel_5635/2038737889.py:12: FutureWarning: \n",
      "\n",
      "Passing `palette` without assigning `hue` is deprecated and will be removed in v0.14.0. Assign the `x` variable to `hue` and set `legend=False` for the same effect.\n",
      "\n",
      "  sns.barplot(x='age-group', y='credit_limit', data=age_group_metrics, palette='hls', ax=ax2)\n",
      "/var/folders/g6/tsh89k751tn8lxp3pdk7rjjw0000gn/T/ipykernel_5635/2038737889.py:19: FutureWarning: \n",
      "\n",
      "Passing `palette` without assigning `hue` is deprecated and will be removed in v0.14.0. Assign the `x` variable to `hue` and set `legend=False` for the same effect.\n",
      "\n",
      "  sns.barplot(x='age-group', y='credit_score', data=age_group_metrics, palette='viridis', ax=ax3)\n"
     ]
    },
    {
     "data": {
      "image/png": "[encoded data removed]",
      "text/plain": [
       "<Figure size 1200x400 with 3 Axes>"
      ]
     },
     "metadata": {},
     "output_type": "display_data"
    }
   ],
   "source": [
    "# Create subplots\n",
    "fig, (ax1, ax2, ax3) = plt.subplots(1, 3, figsize=(12, 4))\n",
    "\n",
    "# Plot 1: Average annual income by age group\n",
    "sns.barplot(x='age-group', y='annual_income', data=age_group_metrics, palette='tab10', ax=ax1)\n",
    "ax1.set_title('Average Annual Income by Age Group')\n",
    "ax1.set_xlabel('Age Group')\n",
    "ax1.set_ylabel('Average Annual Income')\n",
    "ax1.tick_params(axis='x', rotation=0)\n",
    "\n",
    "# Plot 2: Average Max Credit Limit by Age Group\n",
    "sns.barplot(x='age-group', y='credit_limit', data=age_group_metrics, palette='hls', ax=ax2)\n",
    "ax2.set_title('Average Credit Limit by Age Group')\n",
    "ax2.set_xlabel('Age Group')\n",
    "ax2.set_ylabel('Average Credit Limit')\n",
    "ax2.tick_params(axis='x', rotation=0)\n",
    "\n",
    "# Plot 3: Average Credit Score by Age Group\n",
    "sns.barplot(x='age-group', y='credit_score', data=age_group_metrics, palette='viridis', ax=ax3)\n",
    "ax3.set_title('Average Credit Score by Age Group')\n",
    "ax3.set_xlabel('Age Group')\n",
    "ax3.set_ylabel('Average Credit Score')\n",
    "ax3.tick_params(axis='x', rotation=0)\n",
    "\n",
    "plt.tight_layout()\n",
    "plt.show()"
   ]
  },
  {
   "cell_type": "code",
   "execution_count": null,
   "id": "013ab82e-67f8-41e2-89e4-d7d5bd7fd5e9",
   "metadata": {},
   "outputs": [],
   "source": []
  }
 ],
 "metadata": {
  "kernelspec": {
   "display_name": "Python 3 (ipykernel)",
   "language": "python",
   "name": "python3"
  },
  "language_info": {
   "codemirror_mode": {
    "name": "ipython",
    "version": 3
   },
   "file_extension": ".py",
   "mimetype": "text/x-python",
   "name": "python",
   "nbconvert_exporter": "python",
   "pygments_lexer": "ipython3",
   "version": "3.12.2"
  }
 },
 "nbformat": 4,
 "nbformat_minor": 5
}
